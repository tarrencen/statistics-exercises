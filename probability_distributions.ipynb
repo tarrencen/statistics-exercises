{
 "cells": [
  {
   "cell_type": "code",
   "execution_count": 1,
   "metadata": {},
   "outputs": [],
   "source": [
    "import numpy as np\n",
    "import pandas as pd\n",
    "import matplotlib.pyplot as plt\n",
    "from scipy import stats"
   ]
  },
  {
   "cell_type": "markdown",
   "metadata": {},
   "source": [
    "### Exercise 1: \n",
    "\n",
    "A bank found that the average number of cars waiting during the noon hour at a drive-up window follows a Poisson distribution with a mean of 2 cars. Make a chart of this distribution and answer these questions concerning the probability of cars waiting at the drive-up window.\n",
    "\n",
    "What is the probability that no cars drive up in the noon hour?\n",
    "\n",
    "What is the probability that 3 or more cars come through the drive through?\n",
    "\n",
    "How likely is it that the drive through gets at least 1 car?"
   ]
  },
  {
   "cell_type": "code",
   "execution_count": 170,
   "metadata": {},
   "outputs": [
    {
     "name": "stdout",
     "output_type": "stream",
     "text": [
      "0.40600584970983794\n",
      "0.32332358381693654\n",
      "0.8646647167633873\n"
     ]
    },
    {
     "data": {
      "image/png": "[encoded data removed]",
      "text/plain": [
       "<Figure size 432x288 with 1 Axes>"
      ]
     },
     "metadata": {
      "needs_background": "light"
     },
     "output_type": "display_data"
    }
   ],
   "source": [
    "pd.Series(stats.poisson(2).rvs(1000)).value_counts().sort_index().plot.bar()\n",
    "print(stats.poisson(2).cdf(1))\n",
    "print(stats.poisson(2).sf(2))\n",
    "print(stats.poisson(2).sf(0))"
   ]
  },
  {
   "cell_type": "code",
   "execution_count": 172,
   "metadata": {},
   "outputs": [
    {
     "data": {
      "text/plain": [
       "2.007548531778879"
      ]
     },
     "execution_count": 172,
     "metadata": {},
     "output_type": "execute_result"
    }
   ],
   "source": []
  },
  {
   "cell_type": "markdown",
   "metadata": {},
   "source": [
    "### 2. Grades of State University graduates are normally distributed with a mean of 3.0 and a standard deviation of .3. Calculate the following:\n",
    "\n",
    "    What grade point average is required to be in the top 5% of the graduating class?\n",
    "\n",
    "    What GPA constitutes the bottom 15% of the class?\n",
    "\n",
    "    An eccentric alumnus left scholarship money for students in the third decile from the bottom of their class. Determine the range of the third decile. Would a student with a 2.8 grade point average qualify for this scholarship?\n",
    "\n",
    "    If I have a GPA of 3.5, what percentile am I in?\n"
   ]
  },
  {
   "cell_type": "code",
   "execution_count": 145,
   "metadata": {},
   "outputs": [
    {
     "name": "stdout",
     "output_type": "stream",
     "text": [
      "AxesSubplot(0.125,0.125;0.775x0.755)\n",
      "GPAs above 3.4934560880854417 are in the top 5% of the graduating class.\n",
      "GPAs below 2.689069983151863 are in the bottom 15% of the graduating class.\n",
      "GPAs from zero to 2.842679846187588 make up the range of the third decile.\n",
      "A GPA of 2.8 ranks in the 25.24925375469227th percentile, which is in the bottom third decile. Thus, it qualifies for the scholarship.\n",
      "A GPA of 3.5 ranks in the 95.22096477271853th percentile.\n"
     ]
    },
    {
     "data": {
      "image/png": "[encoded data removed]",
      "text/plain": [
       "<Figure size 432x288 with 1 Axes>"
      ]
     },
     "metadata": {
      "needs_background": "light"
     },
     "output_type": "display_data"
    }
   ],
   "source": [
    "state_uni_grads = stats.norm(3, .3)\n",
    "\n",
    "print(pd.Series(state_uni_grads.rvs(25)).plot.bar(ec= 'black'))\n",
    "\n",
    "top_five_pct = state_uni_grads.ppf(.95)\n",
    "print(f'GPAs above {top_five_pct} are in the top 5% of the graduating class.')\n",
    "\n",
    "bottom_fifteen_pct = state_uni_grads.ppf(.15)\n",
    "print(f'GPAs below {bottom_fifteen_pct} are in the bottom 15% of the graduating class.')\n",
    "\n",
    "print(f'GPAs from zero to {state_uni_grads.ppf(.3)} make up the range of the third decile.')\n",
    "\n",
    "print(f'A GPA of 2.8 ranks in the {state_uni_grads.cdf(2.8) * 100}th percentile, which is in the bottom third decile. Thus, it qualifies for the scholarship.') \n",
    "print(f'A GPA of 3.5 ranks in the {state_uni_grads.cdf(3.5) * 100}th percentile.')"
   ]
  },
  {
   "cell_type": "markdown",
   "metadata": {},
   "source": [
    "### 3. A marketing website has an average click-through rate of 2%. One day they observe 4326 visitors and 97 click-throughs. How likely is it that this many people or more click through?"
   ]
  },
  {
   "cell_type": "code",
   "execution_count": 167,
   "metadata": {},
   "outputs": [
    {
     "name": "stdout",
     "output_type": "stream",
     "text": [
      "There is a 13.98% chance that 97 or more people click through the site.\n"
     ]
    },
    {
     "data": {
      "text/plain": [
       "Text(0.5, 0, 'Numbers of click-throughs')"
      ]
     },
     "execution_count": 167,
     "metadata": {},
     "output_type": "execute_result"
    },
    {
     "data": {
      "image/png": "[encoded data removed]",
      "text/plain": [
       "<Figure size 432x288 with 1 Axes>"
      ]
     },
     "metadata": {
      "needs_background": "light"
     },
     "output_type": "display_data"
    }
   ],
   "source": [
    "mktng_site = stats.binom(4326, 0.02)\n",
    "\n",
    "print(f'There is a {round(mktng_site.sf(96) * 100,2)}% chance that 97 or more people click through the site.')\n",
    "\n",
    "pd.Series(mktng_site.rvs(4326)).plot.hist(ec='black')\n",
    "plt.xlabel('Numbers of click-throughs')"
   ]
  },
  {
   "cell_type": "markdown",
   "metadata": {},
   "source": [
    "### 4. You are working on some statistics homework consisting of 100 questions where all of the answers are a probability rounded to the hundreths place. Looking to save time, you put down random probabilities as the answer to each question.\n",
    "\n",
    "    What is the probability that at least one of your first 60 answers is correct?"
   ]
  },
  {
   "cell_type": "code",
   "execution_count": 168,
   "metadata": {},
   "outputs": [
    {
     "name": "stdout",
     "output_type": "stream",
     "text": [
      "There is a 45.28433576092385% chance that one of your first 60 answers is correct.\n"
     ]
    },
    {
     "data": {
      "text/plain": [
       "Text(0.5, 1.0, 'Random Answers')"
      ]
     },
     "execution_count": 168,
     "metadata": {},
     "output_type": "execute_result"
    },
    {
     "data": {
      "image/png": "[encoded data removed]",
      "text/plain": [
       "<Figure size 432x288 with 1 Axes>"
      ]
     },
     "metadata": {
      "needs_background": "light"
     },
     "output_type": "display_data"
    }
   ],
   "source": [
    "test_answers = stats.binom(60, 0.01)\n",
    "\n",
    "print(f'There is a {test_answers.sf(0) * 100}% chance that one of your first 60 answers is correct.')\n",
    "\n",
    "pd.Series(test_answers.rvs(1000)).value_counts().sort_index().plot.bar()\n",
    "plt.xlabel('Number of Correct Answers in First 60 Questions')\n",
    "plt.ylabel('Frequency')\n",
    "plt.title('Random Answers')\n",
    "\n",
    "#I don't know if that's right... I'm assuming a 1% overall probability of success...\n",
    "\n",
    "\n",
    "\n"
   ]
  },
  {
   "cell_type": "markdown",
   "metadata": {},
   "source": [
    "### 5. The codeup staff tends to get upset when the student break area is not cleaned up. Suppose that there's a 3% chance that any one student cleans the break area when they visit it, and, on any given day, about 90% of the 3 active cohorts of 22 students visit the break area. How likely is it that the break area gets cleaned up each day? How likely is it that it goes two days without getting cleaned up? All week?"
   ]
  },
  {
   "cell_type": "code",
   "execution_count": 148,
   "metadata": {},
   "outputs": [
    {
     "name": "stdout",
     "output_type": "stream",
     "text": [
      "There is a 3.1925151700908385% chance that the break room will be cleaned every day.\n",
      "There is a 53.17140258060146% chance that the breakroom will go two days without being cleaned.\n",
      "There is a 46.82859741939854% chance the break room will be a pig sty all week.\n"
     ]
    },
    {
     "data": {
      "image/png": "[encoded data removed]",
      "text/plain": [
       "<Figure size 432x288 with 1 Axes>"
      ]
     },
     "metadata": {
      "needs_background": "light"
     },
     "output_type": "display_data"
    }
   ],
   "source": [
    "brkrm_clean = stats.binom(59, 0.03)\n",
    "\n",
    "pd.Series(brkrm_clean.rvs(25)).plot.bar()\n",
    "\n",
    "print(f'There is a {brkrm_clean.sf(4) * 100}% chance that the break room will be cleaned every day.')\n",
    "print(f'There is a {brkrm_clean.sf(1) * 100}% chance that the breakroom will go two days without being cleaned.')\n",
    "print(f'There is a {brkrm_clean.cdf(1) * 100}% chance the break room will be a pig sty all week.')"
   ]
  },
  {
   "cell_type": "markdown",
   "metadata": {},
   "source": [
    "### 6. You want to get lunch at La Panaderia, but notice that the line is usually very long at lunchtime. After several weeks of careful observation, you notice that the average number of people in line when your lunch break starts is normally distributed with a mean of 15 and standard deviation of 3. If it takes 2 minutes for each person to order, and 10 minutes from ordering to getting your food, what is the likelihood that you have at least 15 minutes left to eat your food before you have to go back to class? Assume you have one hour for lunch, and ignore travel time to and from La Panaderia."
   ]
  },
  {
   "cell_type": "code",
   "execution_count": 169,
   "metadata": {},
   "outputs": [
    {
     "name": "stdout",
     "output_type": "stream",
     "text": [
      "There is a 74.8% chance you will have at least 15 minutes to eat your lunch from La Panaderia before class resumes.\n"
     ]
    }
   ],
   "source": [
    "pan_cola = stats.norm(15, 3)\n",
    "\n",
    "# Doing the math: 60 - (2x +10) <= 15, so, there can be no more than 17 people in line in order for you to have at least 15 minutes to eat.\n",
    "\n",
    "print(f'There is a {round(pan_cola.cdf(17) * 100,1)}% chance you will have at least 15 minutes to eat your lunch from La Panaderia before class resumes.')\n"
   ]
  },
  {
   "cell_type": "markdown",
   "metadata": {},
   "source": [
    "### 7. Connect to the employees database and find the average salary of current employees, along with the standard deviation. For the following questions, calculate the answer based on modeling the employees salaries with a normal distribution defined by the calculated mean and standard deviation then compare this answer to the actual values present in the salaries dataset.\n",
    "\n",
    "    What percent of employees earn less than 60,000?\n",
    "\n",
    "    What percent of employees earn more than 95,000?\n",
    "\n",
    "    What percent of employees earn between 65,000 and 80,000?\n",
    "\n",
    "    What do the top 5% of employees make?"
   ]
  },
  {
   "cell_type": "code",
   "execution_count": 113,
   "metadata": {},
   "outputs": [
    {
     "data": {
      "text/html": [
       "<div>\n",
       "<style scoped>\n",
       "    .dataframe tbody tr th:only-of-type {\n",
       "        vertical-align: middle;\n",
       "    }\n",
       "\n",
       "    .dataframe tbody tr th {\n",
       "        vertical-align: top;\n",
       "    }\n",
       "\n",
       "    .dataframe thead th {\n",
       "        text-align: right;\n",
       "    }\n",
       "</style>\n",
       "<table border=\"1\" class=\"dataframe\">\n",
       "  <thead>\n",
       "    <tr style=\"text-align: right;\">\n",
       "      <th></th>\n",
       "      <th>Tables_in_employees</th>\n",
       "    </tr>\n",
       "  </thead>\n",
       "  <tbody>\n",
       "    <tr>\n",
       "      <th>0</th>\n",
       "      <td>departments</td>\n",
       "    </tr>\n",
       "    <tr>\n",
       "      <th>1</th>\n",
       "      <td>dept_emp</td>\n",
       "    </tr>\n",
       "    <tr>\n",
       "      <th>2</th>\n",
       "      <td>dept_manager</td>\n",
       "    </tr>\n",
       "    <tr>\n",
       "      <th>3</th>\n",
       "      <td>employees</td>\n",
       "    </tr>\n",
       "    <tr>\n",
       "      <th>4</th>\n",
       "      <td>salaries</td>\n",
       "    </tr>\n",
       "    <tr>\n",
       "      <th>5</th>\n",
       "      <td>titles</td>\n",
       "    </tr>\n",
       "  </tbody>\n",
       "</table>\n",
       "</div>"
      ],
      "text/plain": [
       "  Tables_in_employees\n",
       "0         departments\n",
       "1            dept_emp\n",
       "2        dept_manager\n",
       "3           employees\n",
       "4            salaries\n",
       "5              titles"
      ]
     },
     "execution_count": 113,
     "metadata": {},
     "output_type": "execute_result"
    }
   ],
   "source": [
    "from env import get_db_url\n",
    "\n",
    "url = get_db_url('employees')\n",
    "pd.read_sql('SHOW TABLES', url)"
   ]
  },
  {
   "cell_type": "code",
   "execution_count": 114,
   "metadata": {},
   "outputs": [
    {
     "data": {
      "text/html": [
       "<div>\n",
       "<style scoped>\n",
       "    .dataframe tbody tr th:only-of-type {\n",
       "        vertical-align: middle;\n",
       "    }\n",
       "\n",
       "    .dataframe tbody tr th {\n",
       "        vertical-align: top;\n",
       "    }\n",
       "\n",
       "    .dataframe thead th {\n",
       "        text-align: right;\n",
       "    }\n",
       "</style>\n",
       "<table border=\"1\" class=\"dataframe\">\n",
       "  <thead>\n",
       "    <tr style=\"text-align: right;\">\n",
       "      <th></th>\n",
       "      <th>Field</th>\n",
       "      <th>Type</th>\n",
       "      <th>Null</th>\n",
       "      <th>Key</th>\n",
       "      <th>Default</th>\n",
       "      <th>Extra</th>\n",
       "    </tr>\n",
       "  </thead>\n",
       "  <tbody>\n",
       "    <tr>\n",
       "      <th>0</th>\n",
       "      <td>emp_no</td>\n",
       "      <td>int</td>\n",
       "      <td>NO</td>\n",
       "      <td>PRI</td>\n",
       "      <td>None</td>\n",
       "      <td></td>\n",
       "    </tr>\n",
       "    <tr>\n",
       "      <th>1</th>\n",
       "      <td>salary</td>\n",
       "      <td>int</td>\n",
       "      <td>NO</td>\n",
       "      <td></td>\n",
       "      <td>None</td>\n",
       "      <td></td>\n",
       "    </tr>\n",
       "    <tr>\n",
       "      <th>2</th>\n",
       "      <td>from_date</td>\n",
       "      <td>date</td>\n",
       "      <td>NO</td>\n",
       "      <td>PRI</td>\n",
       "      <td>None</td>\n",
       "      <td></td>\n",
       "    </tr>\n",
       "    <tr>\n",
       "      <th>3</th>\n",
       "      <td>to_date</td>\n",
       "      <td>date</td>\n",
       "      <td>NO</td>\n",
       "      <td></td>\n",
       "      <td>None</td>\n",
       "      <td></td>\n",
       "    </tr>\n",
       "  </tbody>\n",
       "</table>\n",
       "</div>"
      ],
      "text/plain": [
       "       Field  Type Null  Key Default Extra\n",
       "0     emp_no   int   NO  PRI    None      \n",
       "1     salary   int   NO         None      \n",
       "2  from_date  date   NO  PRI    None      \n",
       "3    to_date  date   NO         None      "
      ]
     },
     "execution_count": 114,
     "metadata": {},
     "output_type": "execute_result"
    }
   ],
   "source": [
    "pd.read_sql('DESCRIBE salaries', url)"
   ]
  },
  {
   "cell_type": "code",
   "execution_count": 126,
   "metadata": {},
   "outputs": [
    {
     "data": {
      "text/html": [
       "<div>\n",
       "<style scoped>\n",
       "    .dataframe tbody tr th:only-of-type {\n",
       "        vertical-align: middle;\n",
       "    }\n",
       "\n",
       "    .dataframe tbody tr th {\n",
       "        vertical-align: top;\n",
       "    }\n",
       "\n",
       "    .dataframe thead th {\n",
       "        text-align: right;\n",
       "    }\n",
       "</style>\n",
       "<table border=\"1\" class=\"dataframe\">\n",
       "  <thead>\n",
       "    <tr style=\"text-align: right;\">\n",
       "      <th></th>\n",
       "      <th>Field</th>\n",
       "      <th>Type</th>\n",
       "      <th>Null</th>\n",
       "      <th>Key</th>\n",
       "      <th>Default</th>\n",
       "      <th>Extra</th>\n",
       "    </tr>\n",
       "  </thead>\n",
       "  <tbody>\n",
       "    <tr>\n",
       "      <th>0</th>\n",
       "      <td>emp_no</td>\n",
       "      <td>int</td>\n",
       "      <td>NO</td>\n",
       "      <td>PRI</td>\n",
       "      <td>None</td>\n",
       "      <td></td>\n",
       "    </tr>\n",
       "    <tr>\n",
       "      <th>1</th>\n",
       "      <td>birth_date</td>\n",
       "      <td>date</td>\n",
       "      <td>NO</td>\n",
       "      <td></td>\n",
       "      <td>None</td>\n",
       "      <td></td>\n",
       "    </tr>\n",
       "    <tr>\n",
       "      <th>2</th>\n",
       "      <td>first_name</td>\n",
       "      <td>varchar(14)</td>\n",
       "      <td>NO</td>\n",
       "      <td></td>\n",
       "      <td>None</td>\n",
       "      <td></td>\n",
       "    </tr>\n",
       "    <tr>\n",
       "      <th>3</th>\n",
       "      <td>last_name</td>\n",
       "      <td>varchar(16)</td>\n",
       "      <td>NO</td>\n",
       "      <td></td>\n",
       "      <td>None</td>\n",
       "      <td></td>\n",
       "    </tr>\n",
       "    <tr>\n",
       "      <th>4</th>\n",
       "      <td>gender</td>\n",
       "      <td>enum('M','F')</td>\n",
       "      <td>NO</td>\n",
       "      <td></td>\n",
       "      <td>None</td>\n",
       "      <td></td>\n",
       "    </tr>\n",
       "    <tr>\n",
       "      <th>5</th>\n",
       "      <td>hire_date</td>\n",
       "      <td>date</td>\n",
       "      <td>NO</td>\n",
       "      <td></td>\n",
       "      <td>None</td>\n",
       "      <td></td>\n",
       "    </tr>\n",
       "  </tbody>\n",
       "</table>\n",
       "</div>"
      ],
      "text/plain": [
       "        Field           Type Null  Key Default Extra\n",
       "0      emp_no            int   NO  PRI    None      \n",
       "1  birth_date           date   NO         None      \n",
       "2  first_name    varchar(14)   NO         None      \n",
       "3   last_name    varchar(16)   NO         None      \n",
       "4      gender  enum('M','F')   NO         None      \n",
       "5   hire_date           date   NO         None      "
      ]
     },
     "execution_count": 126,
     "metadata": {},
     "output_type": "execute_result"
    }
   ],
   "source": [
    "pd.read_sql('DESCRIBE employees', url)"
   ]
  },
  {
   "cell_type": "code",
   "execution_count": 149,
   "metadata": {},
   "outputs": [
    {
     "name": "stdout",
     "output_type": "stream",
     "text": [
      "<class 'pandas.core.frame.DataFrame'>\n",
      "RangeIndex: 617358 entries, 0 to 617357\n",
      "Data columns (total 8 columns):\n",
      " #   Column     Non-Null Count   Dtype \n",
      "---  ------     --------------   ----- \n",
      " 0   emp_no     617358 non-null  int64 \n",
      " 1   salary     617358 non-null  int64 \n",
      " 2   from_date  617358 non-null  object\n",
      " 3   to_date    617358 non-null  object\n",
      " 4   emp_no     617358 non-null  int64 \n",
      " 5   dept_no    617358 non-null  object\n",
      " 6   from_date  617358 non-null  object\n",
      " 7   to_date    617358 non-null  object\n",
      "dtypes: int64(3), object(5)\n",
      "memory usage: 37.7+ MB\n"
     ]
    }
   ],
   "source": [
    "salaries_data = pd.read_sql('SELECT * FROM salaries JOIN dept_emp ON salaries.emp_no = dept_emp.emp_no WHERE dept_emp.to_date < CURDATE()', url)\n",
    "\n",
    "salaries_data.info()"
   ]
  },
  {
   "cell_type": "code",
   "execution_count": 150,
   "metadata": {},
   "outputs": [],
   "source": [
    "salaries_data.to_csv('~/codeup-data-science/statistics-exercises/salaries_data.csv')"
   ]
  },
  {
   "cell_type": "code",
   "execution_count": 173,
   "metadata": {},
   "outputs": [
    {
     "data": {
      "text/html": [
       "<div>\n",
       "<style scoped>\n",
       "    .dataframe tbody tr th:only-of-type {\n",
       "        vertical-align: middle;\n",
       "    }\n",
       "\n",
       "    .dataframe tbody tr th {\n",
       "        vertical-align: top;\n",
       "    }\n",
       "\n",
       "    .dataframe thead th {\n",
       "        text-align: right;\n",
       "    }\n",
       "</style>\n",
       "<table border=\"1\" class=\"dataframe\">\n",
       "  <thead>\n",
       "    <tr style=\"text-align: right;\">\n",
       "      <th></th>\n",
       "      <th>Unnamed: 0</th>\n",
       "      <th>emp_no</th>\n",
       "      <th>salary</th>\n",
       "      <th>from_date</th>\n",
       "      <th>to_date</th>\n",
       "      <th>emp_no.1</th>\n",
       "      <th>dept_no</th>\n",
       "      <th>from_date.1</th>\n",
       "      <th>to_date.1</th>\n",
       "    </tr>\n",
       "  </thead>\n",
       "  <tbody>\n",
       "    <tr>\n",
       "      <th>0</th>\n",
       "      <td>0</td>\n",
       "      <td>10008</td>\n",
       "      <td>46671</td>\n",
       "      <td>1998-03-11</td>\n",
       "      <td>1999-03-11</td>\n",
       "      <td>10008</td>\n",
       "      <td>d005</td>\n",
       "      <td>1998-03-11</td>\n",
       "      <td>2000-07-31</td>\n",
       "    </tr>\n",
       "    <tr>\n",
       "      <th>1</th>\n",
       "      <td>1</td>\n",
       "      <td>10008</td>\n",
       "      <td>48584</td>\n",
       "      <td>1999-03-11</td>\n",
       "      <td>2000-03-10</td>\n",
       "      <td>10008</td>\n",
       "      <td>d005</td>\n",
       "      <td>1998-03-11</td>\n",
       "      <td>2000-07-31</td>\n",
       "    </tr>\n",
       "    <tr>\n",
       "      <th>2</th>\n",
       "      <td>2</td>\n",
       "      <td>10008</td>\n",
       "      <td>52668</td>\n",
       "      <td>2000-03-10</td>\n",
       "      <td>2000-07-31</td>\n",
       "      <td>10008</td>\n",
       "      <td>d005</td>\n",
       "      <td>1998-03-11</td>\n",
       "      <td>2000-07-31</td>\n",
       "    </tr>\n",
       "    <tr>\n",
       "      <th>3</th>\n",
       "      <td>3</td>\n",
       "      <td>10010</td>\n",
       "      <td>72488</td>\n",
       "      <td>1996-11-24</td>\n",
       "      <td>1997-11-24</td>\n",
       "      <td>10010</td>\n",
       "      <td>d004</td>\n",
       "      <td>1996-11-24</td>\n",
       "      <td>2000-06-26</td>\n",
       "    </tr>\n",
       "    <tr>\n",
       "      <th>4</th>\n",
       "      <td>4</td>\n",
       "      <td>10010</td>\n",
       "      <td>74347</td>\n",
       "      <td>1997-11-24</td>\n",
       "      <td>1998-11-24</td>\n",
       "      <td>10010</td>\n",
       "      <td>d004</td>\n",
       "      <td>1996-11-24</td>\n",
       "      <td>2000-06-26</td>\n",
       "    </tr>\n",
       "    <tr>\n",
       "      <th>...</th>\n",
       "      <td>...</td>\n",
       "      <td>...</td>\n",
       "      <td>...</td>\n",
       "      <td>...</td>\n",
       "      <td>...</td>\n",
       "      <td>...</td>\n",
       "      <td>...</td>\n",
       "      <td>...</td>\n",
       "      <td>...</td>\n",
       "    </tr>\n",
       "    <tr>\n",
       "      <th>617353</th>\n",
       "      <td>617353</td>\n",
       "      <td>499992</td>\n",
       "      <td>73574</td>\n",
       "      <td>1999-05-07</td>\n",
       "      <td>2000-05-06</td>\n",
       "      <td>499992</td>\n",
       "      <td>d003</td>\n",
       "      <td>1987-05-10</td>\n",
       "      <td>1995-05-31</td>\n",
       "    </tr>\n",
       "    <tr>\n",
       "      <th>617354</th>\n",
       "      <td>617354</td>\n",
       "      <td>499992</td>\n",
       "      <td>76708</td>\n",
       "      <td>2000-05-06</td>\n",
       "      <td>2001-05-06</td>\n",
       "      <td>499992</td>\n",
       "      <td>d003</td>\n",
       "      <td>1987-05-10</td>\n",
       "      <td>1995-05-31</td>\n",
       "    </tr>\n",
       "    <tr>\n",
       "      <th>617355</th>\n",
       "      <td>617355</td>\n",
       "      <td>499992</td>\n",
       "      <td>79327</td>\n",
       "      <td>2001-05-06</td>\n",
       "      <td>2002-05-06</td>\n",
       "      <td>499992</td>\n",
       "      <td>d003</td>\n",
       "      <td>1987-05-10</td>\n",
       "      <td>1995-05-31</td>\n",
       "    </tr>\n",
       "    <tr>\n",
       "      <th>617356</th>\n",
       "      <td>617356</td>\n",
       "      <td>499992</td>\n",
       "      <td>80389</td>\n",
       "      <td>2002-05-06</td>\n",
       "      <td>9999-01-01</td>\n",
       "      <td>499992</td>\n",
       "      <td>d003</td>\n",
       "      <td>1987-05-10</td>\n",
       "      <td>1995-05-31</td>\n",
       "    </tr>\n",
       "    <tr>\n",
       "      <th>617357</th>\n",
       "      <td>617357</td>\n",
       "      <td>499994</td>\n",
       "      <td>40000</td>\n",
       "      <td>1993-02-22</td>\n",
       "      <td>1993-10-27</td>\n",
       "      <td>499994</td>\n",
       "      <td>d004</td>\n",
       "      <td>1993-02-22</td>\n",
       "      <td>1993-10-27</td>\n",
       "    </tr>\n",
       "  </tbody>\n",
       "</table>\n",
       "<p>617358 rows × 9 columns</p>\n",
       "</div>"
      ],
      "text/plain": [
       "        Unnamed: 0  emp_no  salary   from_date     to_date  emp_no.1 dept_no  \\\n",
       "0                0   10008   46671  1998-03-11  1999-03-11     10008    d005   \n",
       "1                1   10008   48584  1999-03-11  2000-03-10     10008    d005   \n",
       "2                2   10008   52668  2000-03-10  2000-07-31     10008    d005   \n",
       "3                3   10010   72488  1996-11-24  1997-11-24     10010    d004   \n",
       "4                4   10010   74347  1997-11-24  1998-11-24     10010    d004   \n",
       "...            ...     ...     ...         ...         ...       ...     ...   \n",
       "617353      617353  499992   73574  1999-05-07  2000-05-06    499992    d003   \n",
       "617354      617354  499992   76708  2000-05-06  2001-05-06    499992    d003   \n",
       "617355      617355  499992   79327  2001-05-06  2002-05-06    499992    d003   \n",
       "617356      617356  499992   80389  2002-05-06  9999-01-01    499992    d003   \n",
       "617357      617357  499994   40000  1993-02-22  1993-10-27    499994    d004   \n",
       "\n",
       "       from_date.1   to_date.1  \n",
       "0       1998-03-11  2000-07-31  \n",
       "1       1998-03-11  2000-07-31  \n",
       "2       1998-03-11  2000-07-31  \n",
       "3       1996-11-24  2000-06-26  \n",
       "4       1996-11-24  2000-06-26  \n",
       "...            ...         ...  \n",
       "617353  1987-05-10  1995-05-31  \n",
       "617354  1987-05-10  1995-05-31  \n",
       "617355  1987-05-10  1995-05-31  \n",
       "617356  1987-05-10  1995-05-31  \n",
       "617357  1993-02-22  1993-10-27  \n",
       "\n",
       "[617358 rows x 9 columns]"
      ]
     },
     "execution_count": 173,
     "metadata": {},
     "output_type": "execute_result"
    }
   ],
   "source": [
    "pd.read_csv('salaries_data.csv')"
   ]
  },
  {
   "cell_type": "code",
   "execution_count": 207,
   "metadata": {},
   "outputs": [
    {
     "name": "stdout",
     "output_type": "stream",
     "text": [
      "37.0% of employees make more than $65k.\n",
      "42.3% of employees earn more than $65,000.\n",
      "22.1% of employees make between $65,000 and $80,000... maybe, if my math is right\n"
     ]
    }
   ],
   "source": [
    "avg_emp_sal = salaries_data.salary.mean()\n",
    "std_emp_sal = salaries_data.salary.std()\n",
    "\n",
    "emp_sal_norm = stats.norm(avg_emp_sal, std_emp_sal)\n",
    "\n",
    "#pd.Series(emp_sal_norm.rvs(25)).plot.bar()\n",
    "\n",
    "salary_above_65k = salaries_data.salary >= 64_999\n",
    "print(f'{round(salary_above_65k.sum() / len(salaries_data) * 100,1)}% of employees make more than $65k.')\n",
    "\n",
    "#print(f'{round(emp_sal_norm.cdf(60_000) * 100,1)}% of employees earn less than $60,000.')\n",
    "#print(f'{round(emp_sal_norm.sf(94_999) * 100,1)}% of employees earn more than $95,000.')\n",
    "print(f'{round(emp_sal_norm.sf(64_999) * 100,1)}% of employees earn more than $65,000.')\n",
    "#print(f'{round(emp_sal_norm.cdf(80_000) * 100,1)}% of employees earn less than $80,000.')\n",
    "print(f'{((round(emp_sal_norm.cdf(80_000) * 100,1)) - (round(emp_sal_norm.sf(64_999) * 100,1))) / 2}% of employees make between $65,000 and $80,000... close, but it might be a fluke.')"
   ]
  },
  {
   "cell_type": "code",
   "execution_count": 205,
   "metadata": {},
   "outputs": [
    {
     "name": "stderr",
     "output_type": "stream",
     "text": [
      "/var/folders/qq/jwr_4nc14hb3rbj39kp4nm5h0000gn/T/ipykernel_1248/3670671406.py:1: FutureWarning: Boolean inputs to the `inclusive` argument are deprecated infavour of `both` or `neither`.\n",
      "  (len(salaries_data[salaries_data.salary.between(64_999, 80_001, inclusive= False)]) / len(salaries_data)) * 100\n"
     ]
    },
    {
     "data": {
      "text/plain": [
       "22.277349609140888"
      ]
     },
     "execution_count": 205,
     "metadata": {},
     "output_type": "execute_result"
    }
   ],
   "source": [
    "(len(salaries_data[salaries_data.salary.between(64_999, 80_001, inclusive= False)]) / len(salaries_data)) * 100"
   ]
  },
  {
   "cell_type": "code",
   "execution_count": null,
   "metadata": {},
   "outputs": [],
   "source": []
  }
 ],
 "metadata": {
  "interpreter": {
   "hash": "38cca0c38332a56087b24af0bc80247f4fced29cb4f7f437d91dc159adec9c4e"
  },
  "kernelspec": {
   "display_name": "Python 3.9.7 ('base')",
   "language": "python",
   "name": "python3"
  },
  "language_info": {
   "codemirror_mode": {
    "name": "ipython",
    "version": 3
   },
   "file_extension": ".py",
   "mimetype": "text/x-python",
   "name": "python",
   "nbconvert_exporter": "python",
   "pygments_lexer": "ipython3",
   "version": "3.9.7"
  },
  "orig_nbformat": 4
 },
 "nbformat": 4,
 "nbformat_minor": 2
}
