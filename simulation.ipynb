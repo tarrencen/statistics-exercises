{
 "cells": [
  {
   "cell_type": "markdown",
   "metadata": {},
   "source": [
    "### Exercise\n",
    "\n",
    "1. How likely is it that you roll doubles when rolling two dice?"
   ]
  },
  {
   "cell_type": "code",
   "execution_count": 2,
   "metadata": {},
   "outputs": [
    {
     "data": {
      "text/plain": [
       "0.1668"
      ]
     },
     "execution_count": 2,
     "metadata": {},
     "output_type": "execute_result"
    }
   ],
   "source": [
    "import numpy as np\n",
    "import matplotlib.pyplot as plt\n",
    "import pandas as pd\n",
    "\n",
    "np.random.seed(1017)\n",
    "\n",
    "n_sims = nrows = 10 ** 5\n",
    "n_dice = ncols = 2\n",
    "\n",
    "rolls = np.random.choice([1,2,3,4,5,6], nrows * ncols).reshape(nrows, ncols)\n",
    "\n",
    "rolls = pd.DataFrame(rolls)\n",
    "doubles = rolls[rolls[0] == rolls[1]]\n",
    "len(doubles) / len(rolls)\n",
    "\n",
    "# There is approximately a 16.6% chance of rolling doubles."
   ]
  },
  {
   "cell_type": "markdown",
   "metadata": {},
   "source": [
    "### Exercise\n",
    "\n",
    "2. If you flip 8 coins, what is the probability of getting exactly 3 heads? What is the probability of getting more than 3 heads?"
   ]
  },
  {
   "cell_type": "code",
   "execution_count": 98,
   "metadata": {},
   "outputs": [
    {
     "data": {
      "text/plain": [
       "0.21701"
      ]
     },
     "execution_count": 98,
     "metadata": {},
     "output_type": "execute_result"
    }
   ],
   "source": [
    "coin_flips = nrows = 10 ** 5\n",
    "coins= ncols = 8\n",
    "\n",
    "flips = np.random.choice([0,1], nrows * ncols).reshape(nrows, ncols)\n",
    "flips = pd.DataFrame(flips)\n",
    "flips.head()\n",
    "exactly_three_heads = flips[flips.sum(axis=1) == 3]\n",
    "\n",
    "len(exactly_three_heads) / len(flips)\n",
    "\n",
    "# There is approximately a 22.18% chance of getting exactly three heads when flipping 8 coins.\n",
    "\n",
    "more_than_three_heads = flips[flips.sum(axis=1) > 3] \n"
   ]
  },
  {
   "cell_type": "markdown",
   "metadata": {},
   "source": [
    "### Exercise\n",
    "\n",
    "3. There are approximately 3 web development cohorts for every 1 data science cohort at Codeup. Assuming that Codeup randomly selects an alumni to put on a billboard, what are the odds that the two billboards I drive past both have data science students on them?"
   ]
  },
  {
   "cell_type": "code",
   "execution_count": 14,
   "metadata": {},
   "outputs": [
    {
     "data": {
      "text/plain": [
       "6.308999999999999"
      ]
     },
     "execution_count": 14,
     "metadata": {},
     "output_type": "execute_result"
    }
   ],
   "source": [
    "p = .25\n",
    "n_billboards = ncols = 2\n",
    "n_drives = nrows = 10 ** 5\n",
    "\n",
    "results = np.random.random((nrows, ncols))\n",
    "results\n",
    "\n",
    "data_sci_sweep = results <= p\n",
    "\n",
    "\n",
    "data_sci_sweep\n",
    "\n",
    "(data_sci_sweep.sum(axis=1) > 1).mean() * 100\n",
    "\n",
    "\n",
    "\n",
    "# ~ 6.26% (seems like it might be right...)\n",
    "\n"
   ]
  },
  {
   "cell_type": "markdown",
   "metadata": {},
   "source": [
    "### Exercise\n",
    "\n",
    "4. Codeup students buy, on average, 3 poptart packages with a standard deviation of 1.5 a day from the snack vending machine. If on monday the machine is restocked with 17 poptart packages, how likely is it that I will be able to buy some poptarts on Friday afternoon? (Remember, if you have mean and standard deviation, use the np.random.normal)"
   ]
  },
  {
   "cell_type": "code",
   "execution_count": 103,
   "metadata": {},
   "outputs": [
    {
     "data": {
      "text/plain": [
       "90.85600000000001"
      ]
     },
     "execution_count": 103,
     "metadata": {},
     "output_type": "execute_result"
    }
   ],
   "source": [
    "poptart_total = 17\n",
    "poptarts_per_diem = 3\n",
    "poptarts_pd_std = 1.5\n",
    "poptart_days = n_trials = 4\n",
    "poptart_sims = n_simulations = 10 ** 5\n",
    "\n",
    "fri_poptarts = np.random.normal(loc= poptarts_per_diem, scale= poptarts_pd_std, size= (n_simulations, n_trials))\n",
    "fri_poptarts\n",
    "\n",
    "last_poptarts = poptart_total - fri_poptarts.sum(axis=1)\n",
    "i_can_has_poptart = last_poptarts > 1\n",
    "i_can_has_poptart.sum() / len(i_can_has_poptart) * 100\n",
    "\n",
    "# My overly complicated code indicates that there's a better than 90% chance that \"I can has poptarts\" on Friday... doesn't feel right, though..."
   ]
  },
  {
   "cell_type": "markdown",
   "metadata": {},
   "source": [
    "### Exercise\n",
    "\n",
    "5. Compare Heights\n",
    "\n",
    "    Men have an average height of 178 cm and standard deviation of 8cm.\n",
    "\n",
    "    Women have a mean of 170, sd = 6cm.\n",
    "\n",
    "    Since you have means and standard deviations, you can use np.random.normal to generate observations.\n",
    "\n",
    "    If a man and woman are chosen at random, P(woman taller than man)?"
   ]
  },
  {
   "cell_type": "code",
   "execution_count": 57,
   "metadata": {},
   "outputs": [
    {
     "data": {
      "text/plain": [
       "21.64"
      ]
     },
     "execution_count": 57,
     "metadata": {},
     "output_type": "execute_result"
    }
   ],
   "source": [
    "male_height = 178\n",
    "mh_std = 8\n",
    "female_height = 170\n",
    "fh_std = 6\n",
    "n_trials = 1\n",
    "n_simulations = 10 ** 4\n",
    "\n",
    "mens_ht_sampled = np.random.normal(loc=178, scale=8, size=(n_simulations, n_trials))\n",
    "womens_ht_sampled = np.random.normal(loc=170, scale=6, size=(n_simulations, n_trials))\n",
    "\n",
    "tall_chicks = [womens_ht_sampled > mens_ht_sampled]\n",
    "tall_chicks = pd.Series(tall_chicks)\n",
    "tall_chicks.sum().mean() * 100\n",
    "\n",
    "# 21.64% makes sense..."
   ]
  },
  {
   "cell_type": "markdown",
   "metadata": {},
   "source": [
    "### Exercise\n",
    "\n",
    "6. When installing anaconda on a student's computer, there's a 1 in 250 chance that the download is corrupted and the installation fails. \n",
    "\n",
    "    What are the odds that after having 50 students download anaconda, no one has an installation issue? 100 students? \n",
    "\n",
    "    What is the probability that we observe an installation issue within the first 150 students that download anaconda? \n",
    "    \n",
    "    How likely is it that 450 students all download anaconda without an issue?"
   ]
  },
  {
   "cell_type": "code",
   "execution_count": 93,
   "metadata": {},
   "outputs": [
    {
     "name": "stdout",
     "output_type": "stream",
     "text": [
      "There is a 100.0 percent chance that no one has an installation issue.\n",
      "There is a 100.0 percent chance that no one has an installation issue.\n",
      "There is a 0.0 percent chance that we observe an installation issue in the first 150 downloads.\n",
      "There is a 99.99777777777778 percent chance that all 450 students download anaconda without an issue.\n"
     ]
    }
   ],
   "source": [
    "p_corrupt = 0.004\n",
    "\n",
    "bad_installs_50 = np.random.rand(50) < p_corrupt\n",
    "bad_installs_100 = np.random.rand(100) < p_corrupt\n",
    "bad_installs_150 = np.random.rand(150) < p_corrupt\n",
    "bad_installs_450 = np.random.rand(450) < p_corrupt\n",
    "\n",
    "print(f'There is a {100 - (bad_installs_50.sum() / len(bad_installs_50))} percent chance that no one has an installation issue.')\n",
    "print(f'There is a {100 - (bad_installs_100.sum() / len(bad_installs_100))} percent chance that no one has an installation issue.')\n",
    "print(f'There is a {(bad_installs_150.sum()/ len(bad_installs_150) * 100)} percent chance that we observe an installation issue in the first 150 downloads.')\n",
    "print(f'There is a {100 - (bad_installs_450.sum() / len(bad_installs_450))} percent chance that all 450 students download anaconda without an issue.')"
   ]
  },
  {
   "cell_type": "markdown",
   "metadata": {},
   "source": [
    "### Exercise\n",
    "\n",
    "7. There's a 70% chance on any given day that there will be at least one food truck at Travis Park. However, you haven't seen a food truck there in 3 days. How unlikely is this?"
   ]
  },
  {
   "cell_type": "code",
   "execution_count": 97,
   "metadata": {},
   "outputs": [
    {
     "data": {
      "text/plain": [
       "array([[ True,  True, False],\n",
       "       [ True, False,  True],\n",
       "       [ True, False, False]])"
      ]
     },
     "execution_count": 97,
     "metadata": {},
     "output_type": "execute_result"
    }
   ],
   "source": [
    "p_foodtruck = 0.7\n",
    "p_no_foodtruck = 0.3\n",
    "day = n_trials = 3\n",
    "n_simulations = 10 ** 4\n",
    "\n",
    "foodtruck_day = np.random.random(size=(n_simulations, n_trials)) <= 1.0 - p_foodtruck\n",
    "foodtruck_day"
   ]
  },
  {
   "cell_type": "code",
   "execution_count": null,
   "metadata": {},
   "outputs": [],
   "source": []
  }
 ],
 "metadata": {
  "interpreter": {
   "hash": "38cca0c38332a56087b24af0bc80247f4fced29cb4f7f437d91dc159adec9c4e"
  },
  "kernelspec": {
   "display_name": "Python 3.9.7 ('base')",
   "language": "python",
   "name": "python3"
  },
  "language_info": {
   "codemirror_mode": {
    "name": "ipython",
    "version": 3
   },
   "file_extension": ".py",
   "mimetype": "text/x-python",
   "name": "python",
   "nbconvert_exporter": "python",
   "pygments_lexer": "ipython3",
   "version": "3.9.7"
  },
  "orig_nbformat": 4
 },
 "nbformat": 4,
 "nbformat_minor": 2
}
