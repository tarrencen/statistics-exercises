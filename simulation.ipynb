{
 "cells": [
  {
   "cell_type": "markdown",
   "metadata": {},
   "source": [
    "### How likely is it that you roll doubles when rolling two dice?"
   ]
  },
  {
   "cell_type": "code",
   "execution_count": 2,
   "metadata": {},
   "outputs": [
    {
     "data": {
      "text/plain": [
       "0.1668"
      ]
     },
     "execution_count": 2,
     "metadata": {},
     "output_type": "execute_result"
    }
   ],
   "source": [
    "import numpy as np\n",
    "import matplotlib.pyplot as plt\n",
    "import pandas as pd\n",
    "\n",
    "np.random.seed(1017)\n",
    "\n",
    "n_sims = nrows = 10 ** 5\n",
    "n_dice = ncols = 2\n",
    "\n",
    "rolls = np.random.choice([1,2,3,4,5,6], nrows * ncols).reshape(nrows, ncols)\n",
    "\n",
    "rolls = pd.DataFrame(rolls)\n",
    "doubles = rolls[rolls[0] == rolls[1]]\n",
    "len(doubles) / len(rolls)\n",
    "\n",
    "# There is approximately a 16.6% chance of rolling doubles."
   ]
  },
  {
   "cell_type": "markdown",
   "metadata": {},
   "source": [
    "### If you flip 8 coins, what is the probability of getting exactly 3 heads? What is the probability of getting more than 3 heads?"
   ]
  },
  {
   "cell_type": "code",
   "execution_count": 31,
   "metadata": {},
   "outputs": [
    {
     "data": {
      "text/plain": [
       "0.22177"
      ]
     },
     "execution_count": 31,
     "metadata": {},
     "output_type": "execute_result"
    }
   ],
   "source": [
    "coin_flips = nrows = 10 ** 5\n",
    "coins= ncols = 8\n",
    "\n",
    "flips = np.random.choice([0,1], nrows * ncols).reshape(nrows, ncols)\n",
    "flips = pd.DataFrame(flips)\n",
    "flips.head()\n",
    "exactly_three_heads = flips[flips.sum(axis=1) == 3]\n",
    "\n",
    "len(exactly_three_heads) / len(flips)\n",
    "\n",
    "# There is approximately a 22.18% chance of getting exactly three heads when flipping 8 coins.\n"
   ]
  },
  {
   "cell_type": "markdown",
   "metadata": {},
   "source": [
    "### There are approximately 3 web development cohorts for every 1 data science cohort at Codeup. Assuming that Codeup randomly selects an alumni to put on a billboard, what are the odds that the two billboards I drive past both have data science students on them?"
   ]
  },
  {
   "cell_type": "code",
   "execution_count": 14,
   "metadata": {},
   "outputs": [
    {
     "data": {
      "text/plain": [
       "6.308999999999999"
      ]
     },
     "execution_count": 14,
     "metadata": {},
     "output_type": "execute_result"
    }
   ],
   "source": [
    "p = .25\n",
    "n_billboards = ncols = 2\n",
    "n_drives = nrows = 10 ** 5\n",
    "\n",
    "results = np.random.random((nrows, ncols))\n",
    "results\n",
    "\n",
    "data_sci_sweep = results <= p\n",
    "\n",
    "\n",
    "data_sci_sweep\n",
    "\n",
    "(data_sci_sweep.sum(axis=1) > 1).mean() * 100\n",
    "\n",
    "\n",
    "\n",
    "# ~ 6.26% (seems like it might be right...)\n",
    "\n"
   ]
  },
  {
   "cell_type": "markdown",
   "metadata": {},
   "source": [
    "### Codeup students buy, on average, 3 poptart packages with a standard deviation of 1.5 a day from the snack vending machine. If on monday the machine is restocked with 17 poptart packages, how likely is it that I will be able to buy some poptarts on Friday afternoon? (Remember, if you have mean and standard deviation, use the np.random.normal)"
   ]
  },
  {
   "cell_type": "code",
   "execution_count": 22,
   "metadata": {},
   "outputs": [
    {
     "data": {
      "text/plain": [
       "1.0"
      ]
     },
     "execution_count": 22,
     "metadata": {},
     "output_type": "execute_result"
    }
   ],
   "source": [
    "poptart_total = 17\n",
    "poptarts_per_diem = 3\n",
    "poptarts_pd_std = 1.5\n",
    "poptart_days = n_trials = 4\n",
    "poptart_sims = n_simulations = 10 ** 5\n",
    "\n",
    "fri_poptarts = np.random.normal(size= (n_simulations, n_trials)) * poptarts_per_diem / poptart_total <= poptarts_pd_std \n",
    "fri_poptarts.mean()"
   ]
  },
  {
   "cell_type": "code",
   "execution_count": null,
   "metadata": {},
   "outputs": [],
   "source": []
  }
 ],
 "metadata": {
  "interpreter": {
   "hash": "38cca0c38332a56087b24af0bc80247f4fced29cb4f7f437d91dc159adec9c4e"
  },
  "kernelspec": {
   "display_name": "Python 3.9.7 ('base')",
   "language": "python",
   "name": "python3"
  },
  "language_info": {
   "codemirror_mode": {
    "name": "ipython",
    "version": 3
   },
   "file_extension": ".py",
   "mimetype": "text/x-python",
   "name": "python",
   "nbconvert_exporter": "python",
   "pygments_lexer": "ipython3",
   "version": "3.9.7"
  },
  "orig_nbformat": 4
 },
 "nbformat": 4,
 "nbformat_minor": 2
}
