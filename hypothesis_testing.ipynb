{
 "cells": [
  {
   "cell_type": "markdown",
   "metadata": {},
   "source": [
    "### Has the network latency gone up since we switched internet service providers?\n",
    "\n",
    "    - Null hypothesis: Network latency has not changed since switching ISPs. Bandwidth and the network's efficiency in using it are the same. The network crashes at the same rate as it did before; upload and download speeds have not changed.\n",
    "\n",
    "    - Alternative hypothesis: Network latency has changed since switching ISPs. Bandwidth has either increased or decreased, and the network's efficiency in using it has either increased or decreased. The network crashes either less than it did before or more than it did before; upload and download speeds have either increased or decreased.\n",
    "\n",
    "    * True positive: Null hypothesis (\"Network latency has not changed...\") was rejected and it was found that, by the above mentioned criteria, network latency has changed. Bandwidth increased (or decreased), the network's efficiency in using available bandwidth increased (or decreased), the network crashes less(or more) than it did before the ISP switch, and/or upload and download speeds are faster (or slower).\n",
    "\n",
    "    * True negative: Null hypothesis was accepted and no change was found in network latency. All conditions with regard to network latency remain the same as before the ISP switch.\n",
    "\n",
    "    * False positive: Null hypothesis was rejected, but there was no actual change in network latency.\n",
    "    * False negative: Null hypothesis was accepted, but there was real change in network latency.\n"
   ]
  },
  {
   "cell_type": "markdown",
   "metadata": {},
   "source": [
    "### Is the website redesign any good?\n",
    "\n",
    "    - Null hypothesis: There has been no noticeable change in the website's performance since its redesign. UX ratings are the same as before the redesign. The number of catastrophic errors remains the same. The site's traffic has not increased.\n",
    "\n",
    "    - Alternative hypothesis: The website is performing better since its redesign. UX ratings are higher. The number of catastrophic errors has decreased. Site traffic has significantly increased.\n",
    "\n",
    "        * True positive: Null hypothesis rejected. Website redesigned deemed good based on noted improvement in above mentioned criteria.\n",
    "        * True negative: Null hypothesis accepted. No notable change in the website's performance since its redesign.\n",
    "            ** (What if website performance is worse since redesign???)\n",
    "        * False positive: Null hypothesis rejected, but website performance remains the same (or worse).\n",
    "        * False negative: Null hypothesis accepted, but website performance has improved."
   ]
  },
  {
   "cell_type": "markdown",
   "metadata": {},
   "source": [
    "### Is our television ad driving more sales?\n",
    "   \n",
    "    - Null hypothesis: Sales have remained the same since the release of the TV ad. There has been no ROI.\n",
    "    - Alternative hypothesis: Sales have either increased or decreased since the release of the TV ad. There is either a significant, positive ROI or a net loss in revenue directly associable with the release of the ad.\n",
    "        * True positive: Null hypothesis rejected and notable increase or decrease in sales, reflected in net gain or loss in revenue subsequent to release of ad.\n",
    "        * True negative: Null hypothesis accepted. No change in sales noted; no ROI.\n",
    "        * False positive: Null hypothesis rejected, but no change in sales and 0 ROI.\n",
    "        * False negative: Null hypothesis accepted, but increase or decrease in sales noted. Net gain or loss in revenue since release of ad."
   ]
  },
  {
   "cell_type": "markdown",
   "metadata": {},
   "source": []
  }
 ],
 "metadata": {
  "language_info": {
   "name": "python"
  },
  "orig_nbformat": 4
 },
 "nbformat": 4,
 "nbformat_minor": 2
}
