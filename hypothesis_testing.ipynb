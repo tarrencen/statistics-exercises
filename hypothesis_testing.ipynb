{
 "cells": [
  {
   "cell_type": "markdown",
   "metadata": {},
   "source": [
    "### Has the network latency gone up since we switched internet service providers?\n",
    "\n",
    "    - Null hypothesis: Network latency has not changed since switching ISPs. Bandwidth and the network's efficiency in using it are the same. The network crashes at the same rate as it did before; upload and download speeds have not changed.\n",
    "\n",
    "    - Alternative hypothesis: Network latency has changed since switching ISPs. Bandwidth has either increased or decreased, and the network's efficiency in using it has either increased or decreased. The network crashes either less than it did before or more than it did before; upload and download speeds have either increased or decreased.\n",
    "\n",
    "    * True positive: Null hypothesis (\"Network latency has not changed...\") was rejected and it was found that, by the above mentioned criteria, network latency has changed. Bandwidth increased (or decreased), the network's efficiency in using available bandwidth increased (or decreased), the network crashes less(or more) than it did before the ISP switch, and/or upload and download speeds are faster (or slower).\n",
    "\n",
    "    * True negative: Null hypothesis was accepted and no change was found in network latency. All conditions with regard to network latency remain the same as before the ISP switch.\n",
    "\n",
    "    * False positive: Null hypothesis was rejected, but there was no actual change in network latency.\n",
    "    * False negative: Null hypothesis was accepted, but there was real change in network latency.\n"
   ]
  },
  {
   "cell_type": "markdown",
   "metadata": {},
   "source": [
    "### Is the website redesign any good?\n",
    "\n",
    "    - Null hypothesis: There has been no noticeable change in the website's performance since its redesign. UX ratings are the same as before the redesign. The number of catastrophic errors remains the same. The site's traffic has not increased.\n",
    "\n",
    "    - Alternative hypothesis: The website is performing better since its redesign. UX ratings are higher. The number of catastrophic errors has decreased. Site traffic has significantly increased.\n",
    "\n",
    "        * True positive: Null hypothesis rejected. Website redesigned deemed good based on noted improvement in above mentioned criteria.\n",
    "        * True negative: Null hypothesis accepted. No notable change in the website's performance since its redesign.\n",
    "            ** (What if website performance is worse since redesign???)\n",
    "        * False positive: Null hypothesis rejected, but website performance remains the same (or worse).\n",
    "        * False negative: Null hypothesis accepted, but website performance has improved."
   ]
  },
  {
   "cell_type": "markdown",
   "metadata": {},
   "source": [
    "### Is our television ad driving more sales?\n",
    "   \n",
    "    - Null hypothesis: Sales have remained the same since the release of the TV ad. There has been no ROI.\n",
    "    - Alternative hypothesis: Sales have either increased or decreased since the release of the TV ad. There is either a significant, positive ROI or a net loss in revenue directly associable with the release of the ad.\n",
    "        * True positive: Null hypothesis rejected and notable increase or decrease in sales, reflected in net gain or loss in revenue subsequent to release of ad.\n",
    "        * True negative: Null hypothesis accepted. No change in sales noted; no ROI.\n",
    "        * False positive: Null hypothesis rejected, but no change in sales and 0 ROI.\n",
    "        * False negative: Null hypothesis accepted, but increase or decrease in sales noted. Net gain or loss in revenue since release of ad."
   ]
  },
  {
   "cell_type": "code",
   "execution_count": 62,
   "metadata": {},
   "outputs": [],
   "source": [
    "import pandas as pd \n",
    "import numpy as np \n",
    "import matplotlib.pyplot as plt \n",
    "import seaborn as sns\n",
    "import scipy.stats as stats\n",
    "from pydataset import data\n",
    "from env import get_db_url\n",
    "\n",
    "np.random.seed(123)\n"
   ]
  },
  {
   "cell_type": "code",
   "execution_count": 136,
   "metadata": {},
   "outputs": [
    {
     "data": {
      "text/plain": [
       "Text(0.5, 0, 'Sell time')"
      ]
     },
     "execution_count": 136,
     "metadata": {},
     "output_type": "execute_result"
    },
    {
     "data": {
      "image/png": "[encoded data removed]",
      "text/plain": [
       "<Figure size 432x288 with 1 Axes>"
      ]
     },
     "metadata": {
      "needs_background": "light"
     },
     "output_type": "display_data"
    }
   ],
   "source": [
    "office_one_sales = 40\n",
    "office_one_avg = 90\n",
    "office_one_std = 15\n",
    "office_two_sales = 50\n",
    "office_two_avg = 100\n",
    "office_two_std = 20\n",
    "\n",
    "x = np.arange(50,150)\n",
    "\n",
    "ofc_one_selltime = stats.norm(office_one_avg, office_one_std).pdf(x)\n",
    "ofc_two_selltime = stats.norm(office_two_avg, office_two_std).pdf(x)\n",
    "\n",
    "# H0: There is no difference between the average sales times of office 1 and office 2\n",
    "# Ha: Office 1's average sales time is not equal to Office 2's average sales time. \n",
    "\n",
    "plt.bar(x, ofc_one_selltime)\n",
    "plt.bar(x, ofc_two_selltime)\n",
    "plt.axvline(90, ls= ':')\n",
    "plt.axvline(100, ls= ':', color= 'orange')\n",
    "plt.xlabel('Sell time')"
   ]
  },
  {
   "cell_type": "code",
   "execution_count": 121,
   "metadata": {},
   "outputs": [
    {
     "data": {
      "image/png": "[encoded data removed]",
      "text/plain": [
       "<Figure size 432x288 with 1 Axes>"
      ]
     },
     "metadata": {
      "needs_background": "light"
     },
     "output_type": "display_data"
    }
   ],
   "source": [
    "ofc1= pd.Series(stats.norm(office_one_avg, office_one_std).rvs(100000)).hist()\n",
    "ofc2= pd.Series(stats.norm(office_two_avg, office_two_std).rvs(100000)).hist()\n",
    "\n"
   ]
  },
  {
   "cell_type": "code",
   "execution_count": 144,
   "metadata": {},
   "outputs": [
    {
     "name": "stderr",
     "output_type": "stream",
     "text": [
      "/opt/homebrew/anaconda3/lib/python3.9/site-packages/numpy/core/fromnumeric.py:3702: RuntimeWarning: Degrees of freedom <= 0 for slice\n",
      "  return _methods._var(a, axis=axis, dtype=dtype, out=out, ddof=ddof,\n",
      "/opt/homebrew/anaconda3/lib/python3.9/site-packages/numpy/core/_methods.py:253: RuntimeWarning: invalid value encountered in double_scalars\n",
      "  ret = ret.dtype.type(ret / rcount)\n"
     ]
    },
    {
     "data": {
      "text/plain": [
       "(nan, nan, 0.05)"
      ]
     },
     "execution_count": 144,
     "metadata": {},
     "output_type": "execute_result"
    }
   ],
   "source": [
    "alpha = 0.05\n",
    "\n",
    "tstat, pval = stats.ttest_1samp(ofc_one_selltime.any(), ofc_two_selltime.any())\n",
    "\n",
    "tstat.mean(), pval.mean(), alpha\n",
    "\n",
    "# Ron Guey\n"
   ]
  },
  {
   "cell_type": "code",
   "execution_count": 140,
   "metadata": {},
   "outputs": [
    {
     "ename": "ValueError",
     "evalue": "The truth value of an array with more than one element is ambiguous. Use a.any() or a.all()",
     "output_type": "error",
     "traceback": [
      "\u001b[0;31m---------------------------------------------------------------------------\u001b[0m",
      "\u001b[0;31mValueError\u001b[0m                                Traceback (most recent call last)",
      "\u001b[0;32m/var/folders/qq/jwr_4nc14hb3rbj39kp4nm5h0000gn/T/ipykernel_1770/1389219678.py\u001b[0m in \u001b[0;36m<module>\u001b[0;34m\u001b[0m\n\u001b[0;32m----> 1\u001b[0;31m \u001b[0;32mif\u001b[0m \u001b[0mpval\u001b[0m \u001b[0;34m<\u001b[0m \u001b[0malpha\u001b[0m\u001b[0;34m:\u001b[0m\u001b[0;34m\u001b[0m\u001b[0;34m\u001b[0m\u001b[0m\n\u001b[0m\u001b[1;32m      2\u001b[0m     \u001b[0mprint\u001b[0m\u001b[0;34m(\u001b[0m\u001b[0;34m'We can reject the null hypothesis.'\u001b[0m\u001b[0;34m)\u001b[0m\u001b[0;34m\u001b[0m\u001b[0;34m\u001b[0m\u001b[0m\n\u001b[1;32m      3\u001b[0m \u001b[0;32melse\u001b[0m\u001b[0;34m:\u001b[0m\u001b[0;34m\u001b[0m\u001b[0;34m\u001b[0m\u001b[0m\n\u001b[1;32m      4\u001b[0m     \u001b[0mprint\u001b[0m\u001b[0;34m(\u001b[0m\u001b[0;34m'We fail to reject the null hypothesis.'\u001b[0m\u001b[0;34m)\u001b[0m\u001b[0;34m\u001b[0m\u001b[0;34m\u001b[0m\u001b[0m\n",
      "\u001b[0;31mValueError\u001b[0m: The truth value of an array with more than one element is ambiguous. Use a.any() or a.all()"
     ]
    }
   ],
   "source": [
    "if pval < alpha:\n",
    "    print('We can reject the null hypothesis.')\n",
    "else:\n",
    "    print('We fail to reject the null hypothesis.')"
   ]
  },
  {
   "cell_type": "code",
   "execution_count": 141,
   "metadata": {},
   "outputs": [
    {
     "data": {
      "text/plain": [
       "(-0.31008683647302115, 0.7585165042546953, 0.05)"
      ]
     },
     "execution_count": 141,
     "metadata": {},
     "output_type": "execute_result"
    }
   ],
   "source": [
    "tstat, pval = stats.ttest_ind_from_stats(office_one_sales, office_one_avg, office_one_std, office_two_sales, office_two_avg, office_two_std, equal_var= False)\n",
    "\n",
    "tstat, pval, alpha\n",
    "\n",
    "# Rait Guey"
   ]
  },
  {
   "cell_type": "code",
   "execution_count": 142,
   "metadata": {},
   "outputs": [
    {
     "name": "stdout",
     "output_type": "stream",
     "text": [
      "We fail to reject the null hypothesis.\n"
     ]
    }
   ],
   "source": [
    "if pval < alpha:\n",
    "    print ('We can reject the null hypothesis.')\n",
    "else: \n",
    "    print('We fail to reject the null hypothesis.')"
   ]
  },
  {
   "cell_type": "markdown",
   "metadata": {},
   "source": [
    "### Load the mpg dataset and use it to answer the following questions:\n",
    "\n",
    "- Is there a difference in fuel-efficiency in cars from 2008 vs 1999?\n",
    "\n",
    "- Are compact cars more fuel-efficient than the average car?\n",
    "\n",
    "- Do manual cars get better gas mileage than automatic cars?"
   ]
  },
  {
   "cell_type": "code",
   "execution_count": 32,
   "metadata": {},
   "outputs": [],
   "source": [
    "mpg = data('mpg')"
   ]
  },
  {
   "cell_type": "code",
   "execution_count": 74,
   "metadata": {},
   "outputs": [
    {
     "data": {
      "text/html": [
       "<div>\n",
       "<style scoped>\n",
       "    .dataframe tbody tr th:only-of-type {\n",
       "        vertical-align: middle;\n",
       "    }\n",
       "\n",
       "    .dataframe tbody tr th {\n",
       "        vertical-align: top;\n",
       "    }\n",
       "\n",
       "    .dataframe thead th {\n",
       "        text-align: right;\n",
       "    }\n",
       "</style>\n",
       "<table border=\"1\" class=\"dataframe\">\n",
       "  <thead>\n",
       "    <tr style=\"text-align: right;\">\n",
       "      <th></th>\n",
       "      <th>manufacturer</th>\n",
       "      <th>model</th>\n",
       "      <th>displ</th>\n",
       "      <th>year</th>\n",
       "      <th>cyl</th>\n",
       "      <th>trans</th>\n",
       "      <th>drv</th>\n",
       "      <th>cty</th>\n",
       "      <th>hwy</th>\n",
       "      <th>fl</th>\n",
       "      <th>class</th>\n",
       "      <th>avg_mileage</th>\n",
       "    </tr>\n",
       "  </thead>\n",
       "  <tbody>\n",
       "    <tr>\n",
       "      <th>1</th>\n",
       "      <td>audi</td>\n",
       "      <td>a4</td>\n",
       "      <td>1.8</td>\n",
       "      <td>1999</td>\n",
       "      <td>4</td>\n",
       "      <td>auto(l5)</td>\n",
       "      <td>f</td>\n",
       "      <td>18</td>\n",
       "      <td>29</td>\n",
       "      <td>p</td>\n",
       "      <td>compact</td>\n",
       "      <td>23.5</td>\n",
       "    </tr>\n",
       "    <tr>\n",
       "      <th>2</th>\n",
       "      <td>audi</td>\n",
       "      <td>a4</td>\n",
       "      <td>1.8</td>\n",
       "      <td>1999</td>\n",
       "      <td>4</td>\n",
       "      <td>manual(m5)</td>\n",
       "      <td>f</td>\n",
       "      <td>21</td>\n",
       "      <td>29</td>\n",
       "      <td>p</td>\n",
       "      <td>compact</td>\n",
       "      <td>25.0</td>\n",
       "    </tr>\n",
       "    <tr>\n",
       "      <th>3</th>\n",
       "      <td>audi</td>\n",
       "      <td>a4</td>\n",
       "      <td>2.0</td>\n",
       "      <td>2008</td>\n",
       "      <td>4</td>\n",
       "      <td>manual(m6)</td>\n",
       "      <td>f</td>\n",
       "      <td>20</td>\n",
       "      <td>31</td>\n",
       "      <td>p</td>\n",
       "      <td>compact</td>\n",
       "      <td>25.5</td>\n",
       "    </tr>\n",
       "    <tr>\n",
       "      <th>4</th>\n",
       "      <td>audi</td>\n",
       "      <td>a4</td>\n",
       "      <td>2.0</td>\n",
       "      <td>2008</td>\n",
       "      <td>4</td>\n",
       "      <td>auto(av)</td>\n",
       "      <td>f</td>\n",
       "      <td>21</td>\n",
       "      <td>30</td>\n",
       "      <td>p</td>\n",
       "      <td>compact</td>\n",
       "      <td>25.5</td>\n",
       "    </tr>\n",
       "    <tr>\n",
       "      <th>5</th>\n",
       "      <td>audi</td>\n",
       "      <td>a4</td>\n",
       "      <td>2.8</td>\n",
       "      <td>1999</td>\n",
       "      <td>6</td>\n",
       "      <td>auto(l5)</td>\n",
       "      <td>f</td>\n",
       "      <td>16</td>\n",
       "      <td>26</td>\n",
       "      <td>p</td>\n",
       "      <td>compact</td>\n",
       "      <td>21.0</td>\n",
       "    </tr>\n",
       "  </tbody>\n",
       "</table>\n",
       "</div>"
      ],
      "text/plain": [
       "  manufacturer model  displ  year  cyl       trans drv  cty  hwy fl    class  \\\n",
       "1         audi    a4    1.8  1999    4    auto(l5)   f   18   29  p  compact   \n",
       "2         audi    a4    1.8  1999    4  manual(m5)   f   21   29  p  compact   \n",
       "3         audi    a4    2.0  2008    4  manual(m6)   f   20   31  p  compact   \n",
       "4         audi    a4    2.0  2008    4    auto(av)   f   21   30  p  compact   \n",
       "5         audi    a4    2.8  1999    6    auto(l5)   f   16   26  p  compact   \n",
       "\n",
       "   avg_mileage  \n",
       "1         23.5  \n",
       "2         25.0  \n",
       "3         25.5  \n",
       "4         25.5  \n",
       "5         21.0  "
      ]
     },
     "execution_count": 74,
     "metadata": {},
     "output_type": "execute_result"
    }
   ],
   "source": [
    "mpg.head()\n",
    "mpg['avg_mileage'] = (mpg.hwy + mpg.cty) / 2\n",
    "\n",
    "cars_2008 = mpg[mpg.year == 2008]\n",
    "cars_1999 = mpg[mpg.year == 1999]\n",
    "\n",
    "mpg.head()\n"
   ]
  },
  {
   "cell_type": "code",
   "execution_count": 76,
   "metadata": {},
   "outputs": [
    {
     "name": "stdout",
     "output_type": "stream",
     "text": [
      "2008 average fuel efficiency is 20.076923076923077.\n",
      "1999 average fuel efficiency is 20.22222222222222.\n"
     ]
    }
   ],
   "source": [
    "fuel_eff_2008 = cars_2008.avg_mileage.mean()\n",
    "fuel_eff_1999 = cars_1999.avg_mileage.mean()\n",
    "\n",
    "print(f'2008 average fuel efficiency is {fuel_eff_2008}.')\n",
    "print(f'1999 average fuel efficiency is {fuel_eff_1999}.')"
   ]
  },
  {
   "cell_type": "markdown",
   "metadata": {},
   "source": [
    "H0: There is no difference in fuel efficiency between cars in 2008 and 1999.\n",
    "\n",
    "Ha: Fuel efficiency in 2008 cars > Fuel efficiency in 1999 cars."
   ]
  },
  {
   "cell_type": "code",
   "execution_count": 85,
   "metadata": {},
   "outputs": [
    {
     "data": {
      "text/plain": [
       "(-0.21960177245940962, 0.4131875386030319, 0.05)"
      ]
     },
     "execution_count": 85,
     "metadata": {},
     "output_type": "execute_result"
    }
   ],
   "source": [
    "cars_2008.avg_mileage.var()\n",
    "cars_1999.avg_mileage.var()\n",
    "alpha = 0.05\n",
    "tstat, pval = stats.ttest_ind(cars_2008.avg_mileage, cars_1999.avg_mileage, equal_var=False)\n",
    "\n",
    "tstat, pval / 2, alpha\n"
   ]
  },
  {
   "cell_type": "code",
   "execution_count": 86,
   "metadata": {},
   "outputs": [
    {
     "name": "stdout",
     "output_type": "stream",
     "text": [
      "We fail to reject the null hypothesis.\n"
     ]
    }
   ],
   "source": [
    "if pval / 2 < alpha and tstat > 0:\n",
    "    print ('We reject the null hypothesis.')\n",
    "else:\n",
    "    print ('We fail to reject the null hypothesis.')"
   ]
  },
  {
   "cell_type": "code",
   "execution_count": 88,
   "metadata": {},
   "outputs": [],
   "source": [
    "mpg.rename(columns= {'class': 'car_class'}, inplace= True)\n",
    "mpg.head()\n",
    "\n",
    "compact_cars = mpg[mpg.car_class == 'compact']"
   ]
  },
  {
   "cell_type": "markdown",
   "metadata": {},
   "source": [
    "H0: There is no difference between compact car fuel efficiency and average car fuel efficiency\n",
    "\n",
    "Ha: Compact car fuel efficiency > average car fuel efficiency"
   ]
  },
  {
   "cell_type": "code",
   "execution_count": 126,
   "metadata": {},
   "outputs": [
    {
     "name": "stdout",
     "output_type": "stream",
     "text": [
      "Average compact car fuel efficiency: 24.21276595744681\n",
      "Average car fuel efficiency: 20.14957264957265\n"
     ]
    }
   ],
   "source": [
    "\n",
    "print(f'Average compact car fuel efficiency: {compact_cars.avg_mileage.mean()}')\n",
    "print(f'Average car fuel efficiency: {mpg.avg_mileage.mean()}')\n"
   ]
  },
  {
   "cell_type": "code",
   "execution_count": 96,
   "metadata": {},
   "outputs": [
    {
     "name": "stdout",
     "output_type": "stream",
     "text": [
      "We reject the null hypothesis.\n"
     ]
    }
   ],
   "source": [
    "alpha = 0.05\n",
    "\n",
    "tstat, pval = stats.ttest_1samp(compact_cars.avg_mileage, mpg.avg_mileage.mean())\n",
    "\n",
    "if pval / 2 < alpha and tstat > 0:\n",
    "    print('We reject the null hypothesis.')\n",
    "else:\n",
    "    print('We fail to reject the null hypothesis.')"
   ]
  },
  {
   "cell_type": "code",
   "execution_count": 101,
   "metadata": {},
   "outputs": [],
   "source": [
    "auto_trans_cars = mpg[mpg.trans.str.startswith('a')]\n",
    "manual_trans_cars = mpg[mpg.trans.str.startswith('m')]"
   ]
  },
  {
   "cell_type": "markdown",
   "metadata": {},
   "source": [
    "H0: There is no difference in average fuel efficiency between cars with automatic transmissions and cars with manual transmissions.\n",
    "Ha: Cars with manual transmissions have better fuel efficiency than cars with automatic transmissions.\n"
   ]
  },
  {
   "cell_type": "code",
   "execution_count": 103,
   "metadata": {},
   "outputs": [
    {
     "name": "stdout",
     "output_type": "stream",
     "text": [
      "Do manual transmissions have better fuel efficiency? True\n",
      "Is variance in average fuel efficiency between manual transmission cars and automatic transmission cars equal? False\n"
     ]
    }
   ],
   "source": [
    "print(f'Do manual transmissions have better fuel efficiency? {manual_trans_cars.avg_mileage.mean() > auto_trans_cars.avg_mileage.mean()}')\n",
    "print(f'Is variance in average fuel efficiency between manual transmission cars and automatic transmission cars equal? {manual_trans_cars.avg_mileage.var() == auto_trans_cars.avg_mileage.var()}')"
   ]
  },
  {
   "cell_type": "code",
   "execution_count": 130,
   "metadata": {},
   "outputs": [
    {
     "name": "stdout",
     "output_type": "stream",
     "text": [
      "Manual transmission avg fuel eff variance is: 26.635167464114826\n",
      "Automatic transmission avg fuel eff variance is : 21.942777233382337\n",
      "Levene says:LeveneResult(statistic=0.20075824847529639, pvalue=0.6545276355131857), and since the pvalue is > alpha, we cannot reject the null hypothesis relative to variance that it is equal between the respective samples.\n"
     ]
    }
   ],
   "source": [
    "print(f'Manual transmission avg fuel eff variance is: {manual_trans_cars.avg_mileage.var()}')\n",
    "print(f'Automatic transmission avg fuel eff variance is : {auto_trans_cars.avg_mileage.var()}')\n",
    "\n",
    "print(f'Levene says:{stats.levene(manual_trans_cars.avg_mileage, auto_trans_cars.avg_mileage)}, and since the pvalue is > alpha, we cannot reject the null hypothesis relative to variance that it is equal between the respective samples.')"
   ]
  },
  {
   "cell_type": "code",
   "execution_count": 131,
   "metadata": {},
   "outputs": [
    {
     "data": {
      "text/plain": [
       "(4.593437735750014, 3.5771872005728416e-06, 0.05)"
      ]
     },
     "execution_count": 131,
     "metadata": {},
     "output_type": "execute_result"
    }
   ],
   "source": [
    "tstat, pval = stats.ttest_ind(manual_trans_cars.avg_mileage, auto_trans_cars.avg_mileage)\n",
    "\n",
    "tstat, pval / 2, alpha"
   ]
  },
  {
   "cell_type": "code",
   "execution_count": 132,
   "metadata": {},
   "outputs": [
    {
     "name": "stdout",
     "output_type": "stream",
     "text": [
      "We can reject the null hypothesis.\n"
     ]
    }
   ],
   "source": [
    "if pval / 2 < alpha and tstat > 0:\n",
    "    print('We can reject the null hypothesis.')\n",
    "else:\n",
    "    print('We fail to reject the null hypothesis.')"
   ]
  }
 ],
 "metadata": {
  "interpreter": {
   "hash": "38cca0c38332a56087b24af0bc80247f4fced29cb4f7f437d91dc159adec9c4e"
  },
  "kernelspec": {
   "display_name": "Python 3.9.7 ('base')",
   "language": "python",
   "name": "python3"
  },
  "language_info": {
   "codemirror_mode": {
    "name": "ipython",
    "version": 3
   },
   "file_extension": ".py",
   "mimetype": "text/x-python",
   "name": "python",
   "nbconvert_exporter": "python",
   "pygments_lexer": "ipython3",
   "version": "3.9.7"
  },
  "orig_nbformat": 4
 },
 "nbformat": 4,
 "nbformat_minor": 2
}
