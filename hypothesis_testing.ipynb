{
 "cells": [
  {
   "cell_type": "markdown",
   "metadata": {},
   "source": [
    "### Has the network latency gone up since we switched internet service providers?\n",
    "\n",
    "    - Null hypothesis: Network latency has not changed since switching ISPs. Bandwidth and the network's efficiency in using it are the same. The network crashes at the same rate as it did before; upload and download speeds have not changed.\n",
    "\n",
    "    - Alternative hypothesis: Network latency has changed since switching ISPs. Bandwidth has either increased or decreased, and the network's efficiency in using it has either increased or decreased. The network crashes either less than it did before or more than it did before; upload and download speeds have either increased or decreased.\n",
    "\n",
    "    * True positive: Null hypothesis (\"Network latency has not changed...\") was rejected and it was found that, by the above mentioned criteria, network latency has changed. Bandwidth increased (or decreased), the network's efficiency in using available bandwidth increased (or decreased), the network crashes less(or more) than it did before the ISP switch, and/or upload and download speeds are faster (or slower).\n",
    "\n",
    "    * True negative: Null hypothesis was accepted and no change was found in network latency. All conditions with regard to network latency remain the same as before the ISP switch.\n",
    "\n",
    "    * False positive: Null hypothesis was rejected, but there was no actual change in network latency.\n",
    "    * False negative: Null hypothesis was accepted, but there was real change in network latency.\n"
   ]
  },
  {
   "cell_type": "markdown",
   "metadata": {},
   "source": [
    "### Is the website redesign any good?\n",
    "\n",
    "    - Null hypothesis: There has been no noticeable change in the website's performance since its redesign. UX ratings are the same as before the redesign. The number of catastrophic errors remains the same. The site's traffic has not increased.\n",
    "\n",
    "    - Alternative hypothesis: The website is performing better since its redesign. UX ratings are higher. The number of catastrophic errors has decreased. Site traffic has significantly increased.\n",
    "\n",
    "        * True positive: Null hypothesis rejected. Website redesigned deemed good based on noted improvement in above mentioned criteria.\n",
    "        * True negative: Null hypothesis accepted. No notable change in the website's performance since its redesign.\n",
    "            ** (What if website performance is worse since redesign???)\n",
    "        * False positive: Null hypothesis rejected, but website performance remains the same (or worse).\n",
    "        * False negative: Null hypothesis accepted, but website performance has improved."
   ]
  },
  {
   "cell_type": "markdown",
   "metadata": {},
   "source": [
    "### Is our television ad driving more sales?\n",
    "   \n",
    "    - Null hypothesis: Sales have remained the same since the release of the TV ad. There has been no ROI.\n",
    "    - Alternative hypothesis: Sales have either increased or decreased since the release of the TV ad. There is either a significant, positive ROI or a net loss in revenue directly associable with the release of the ad.\n",
    "        * True positive: Null hypothesis rejected and notable increase or decrease in sales, reflected in net gain or loss in revenue subsequent to release of ad.\n",
    "        * True negative: Null hypothesis accepted. No change in sales noted; no ROI.\n",
    "        * False positive: Null hypothesis rejected, but no change in sales and 0 ROI.\n",
    "        * False negative: Null hypothesis accepted, but increase or decrease in sales noted. Net gain or loss in revenue since release of ad."
   ]
  },
  {
   "cell_type": "code",
   "execution_count": 31,
   "metadata": {},
   "outputs": [],
   "source": [
    "import pandas as pd \n",
    "import numpy as np \n",
    "import matplotlib.pyplot as plt \n",
    "import seaborn as sns\n",
    "import scipy.stats as stats\n",
    "from pydataset import data\n",
    "from env import get_db_url\n"
   ]
  },
  {
   "cell_type": "code",
   "execution_count": 54,
   "metadata": {},
   "outputs": [
    {
     "data": {
      "text/plain": [
       "<AxesSubplot:>"
      ]
     },
     "execution_count": 54,
     "metadata": {},
     "output_type": "execute_result"
    },
    {
     "data": {
      "image/png": "[encoded data removed]",
      "text/plain": [
       "<Figure size 432x288 with 1 Axes>"
      ]
     },
     "metadata": {
      "needs_background": "light"
     },
     "output_type": "display_data"
    }
   ],
   "source": [
    "office_one_sales = 40\n",
    "office_one_avg = 90\n",
    "office_one_std = 15\n",
    "office_two_sales = 50\n",
    "office_two_avg = 100\n",
    "office_two_std = 20\n",
    "\n",
    "ofc_one_selltime = stats.norm(office_one_avg, office_one_std)\n",
    "ofc_two_selltime = stats.norm(office_two_avg, office_two_std)\n",
    "\n",
    "# H0: There is no difference between the average sales times of office 1 and office 2\n",
    "# Ha: Office 1's sales time is less than Office 2's sales time.\n",
    "\n",
    "pd.Series(ofc_one_selltime.rvs(1000,40)).hist()\n",
    "#pd.Series(ofc_two_selltime.rvs(1000,50)).hist()"
   ]
  },
  {
   "cell_type": "code",
   "execution_count": null,
   "metadata": {},
   "outputs": [],
   "source": [
    "ofc1_sales_sim = pd.DataFrame(np.random.normal(office_one_avg, office_one_std, (1000, 40)))\n",
    "ofc1_sales_sim.hist()"
   ]
  },
  {
   "cell_type": "code",
   "execution_count": 32,
   "metadata": {},
   "outputs": [],
   "source": [
    "mpg = data('mpg')"
   ]
  },
  {
   "cell_type": "code",
   "execution_count": 33,
   "metadata": {},
   "outputs": [
    {
     "data": {
      "text/html": [
       "<div>\n",
       "<style scoped>\n",
       "    .dataframe tbody tr th:only-of-type {\n",
       "        vertical-align: middle;\n",
       "    }\n",
       "\n",
       "    .dataframe tbody tr th {\n",
       "        vertical-align: top;\n",
       "    }\n",
       "\n",
       "    .dataframe thead th {\n",
       "        text-align: right;\n",
       "    }\n",
       "</style>\n",
       "<table border=\"1\" class=\"dataframe\">\n",
       "  <thead>\n",
       "    <tr style=\"text-align: right;\">\n",
       "      <th></th>\n",
       "      <th>manufacturer</th>\n",
       "      <th>model</th>\n",
       "      <th>displ</th>\n",
       "      <th>year</th>\n",
       "      <th>cyl</th>\n",
       "      <th>trans</th>\n",
       "      <th>drv</th>\n",
       "      <th>cty</th>\n",
       "      <th>hwy</th>\n",
       "      <th>fl</th>\n",
       "      <th>class</th>\n",
       "    </tr>\n",
       "  </thead>\n",
       "  <tbody>\n",
       "    <tr>\n",
       "      <th>1</th>\n",
       "      <td>audi</td>\n",
       "      <td>a4</td>\n",
       "      <td>1.8</td>\n",
       "      <td>1999</td>\n",
       "      <td>4</td>\n",
       "      <td>auto(l5)</td>\n",
       "      <td>f</td>\n",
       "      <td>18</td>\n",
       "      <td>29</td>\n",
       "      <td>p</td>\n",
       "      <td>compact</td>\n",
       "    </tr>\n",
       "    <tr>\n",
       "      <th>2</th>\n",
       "      <td>audi</td>\n",
       "      <td>a4</td>\n",
       "      <td>1.8</td>\n",
       "      <td>1999</td>\n",
       "      <td>4</td>\n",
       "      <td>manual(m5)</td>\n",
       "      <td>f</td>\n",
       "      <td>21</td>\n",
       "      <td>29</td>\n",
       "      <td>p</td>\n",
       "      <td>compact</td>\n",
       "    </tr>\n",
       "    <tr>\n",
       "      <th>3</th>\n",
       "      <td>audi</td>\n",
       "      <td>a4</td>\n",
       "      <td>2.0</td>\n",
       "      <td>2008</td>\n",
       "      <td>4</td>\n",
       "      <td>manual(m6)</td>\n",
       "      <td>f</td>\n",
       "      <td>20</td>\n",
       "      <td>31</td>\n",
       "      <td>p</td>\n",
       "      <td>compact</td>\n",
       "    </tr>\n",
       "    <tr>\n",
       "      <th>4</th>\n",
       "      <td>audi</td>\n",
       "      <td>a4</td>\n",
       "      <td>2.0</td>\n",
       "      <td>2008</td>\n",
       "      <td>4</td>\n",
       "      <td>auto(av)</td>\n",
       "      <td>f</td>\n",
       "      <td>21</td>\n",
       "      <td>30</td>\n",
       "      <td>p</td>\n",
       "      <td>compact</td>\n",
       "    </tr>\n",
       "    <tr>\n",
       "      <th>5</th>\n",
       "      <td>audi</td>\n",
       "      <td>a4</td>\n",
       "      <td>2.8</td>\n",
       "      <td>1999</td>\n",
       "      <td>6</td>\n",
       "      <td>auto(l5)</td>\n",
       "      <td>f</td>\n",
       "      <td>16</td>\n",
       "      <td>26</td>\n",
       "      <td>p</td>\n",
       "      <td>compact</td>\n",
       "    </tr>\n",
       "  </tbody>\n",
       "</table>\n",
       "</div>"
      ],
      "text/plain": [
       "  manufacturer model  displ  year  cyl       trans drv  cty  hwy fl    class\n",
       "1         audi    a4    1.8  1999    4    auto(l5)   f   18   29  p  compact\n",
       "2         audi    a4    1.8  1999    4  manual(m5)   f   21   29  p  compact\n",
       "3         audi    a4    2.0  2008    4  manual(m6)   f   20   31  p  compact\n",
       "4         audi    a4    2.0  2008    4    auto(av)   f   21   30  p  compact\n",
       "5         audi    a4    2.8  1999    6    auto(l5)   f   16   26  p  compact"
      ]
     },
     "execution_count": 33,
     "metadata": {},
     "output_type": "execute_result"
    }
   ],
   "source": [
    "mpg.head()"
   ]
  },
  {
   "cell_type": "code",
   "execution_count": null,
   "metadata": {},
   "outputs": [],
   "source": []
  }
 ],
 "metadata": {
  "interpreter": {
   "hash": "38cca0c38332a56087b24af0bc80247f4fced29cb4f7f437d91dc159adec9c4e"
  },
  "kernelspec": {
   "display_name": "Python 3.9.7 ('base')",
   "language": "python",
   "name": "python3"
  },
  "language_info": {
   "codemirror_mode": {
    "name": "ipython",
    "version": 3
   },
   "file_extension": ".py",
   "mimetype": "text/x-python",
   "name": "python",
   "nbconvert_exporter": "python",
   "pygments_lexer": "ipython3",
   "version": "3.9.7"
  },
  "orig_nbformat": 4
 },
 "nbformat": 4,
 "nbformat_minor": 2
}
