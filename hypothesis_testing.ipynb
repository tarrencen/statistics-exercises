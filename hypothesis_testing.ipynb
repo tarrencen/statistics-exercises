{
 "cells": [
  {
   "cell_type": "markdown",
   "metadata": {},
   "source": [
    "### Has the network latency gone up since we switched internet service providers?\n",
    "\n",
    "    - Null hypothesis: Network latency has not changed since switching ISPs. Bandwidth and the network's efficiency in using it are the same. The network crashes at the same rate as it did before; upload and download speeds have not changed.\n",
    "\n",
    "    - Alternative hypothesis: Network latency has changed since switching ISPs. Bandwidth has either increased or decreased, and the network's efficiency in using it has either increased or decreased. The network crashes either less than it did before or more than it did before; upload and download speeds have either increased or decreased.\n",
    "\n",
    "    * True positive: Null hypothesis (\"Network latency has not changed...\") was rejected and it was found that, by the above mentioned criteria, network latency has changed. Bandwidth increased (or decreased), the network's efficiency in using available bandwidth increased (or decreased), the network crashes less(or more) than it did before the ISP switch, and/or upload and download speeds are faster (or slower).\n",
    "\n",
    "    * True negative: Null hypothesis was accepted and no change was found in network latency. All conditions with regard to network latency remain the same as before the ISP switch.\n",
    "\n",
    "    * False positive: Null hypothesis was rejected, but there was no actual change in network latency.\n",
    "    * False negative: Null hypothesis was accepted, but there was real change in network latency.\n"
   ]
  },
  {
   "cell_type": "markdown",
   "metadata": {},
   "source": [
    "### Is the website redesign any good?\n",
    "\n",
    "    - Null hypothesis: There has been no noticeable change in the website's performance since its redesign. UX ratings are the same as before the redesign. The number of catastrophic errors remains the same. The site's traffic has not increased.\n",
    "\n",
    "    - Alternative hypothesis: The website is performing better since its redesign. UX ratings are higher. The number of catastrophic errors has decreased. Site traffic has significantly increased.\n",
    "\n",
    "        * True positive: Null hypothesis rejected. Website redesigned deemed good based on noted improvement in above mentioned criteria.\n",
    "        * True negative: Null hypothesis accepted. No notable change in the website's performance since its redesign.\n",
    "            ** (What if website performance is worse since redesign???)\n",
    "        * False positive: Null hypothesis rejected, but website performance remains the same (or worse).\n",
    "        * False negative: Null hypothesis accepted, but website performance has improved."
   ]
  },
  {
   "cell_type": "markdown",
   "metadata": {},
   "source": [
    "### Is our television ad driving more sales?\n",
    "   \n",
    "    - Null hypothesis: Sales have remained the same since the release of the TV ad. There has been no ROI.\n",
    "    - Alternative hypothesis: Sales have either increased or decreased since the release of the TV ad. There is either a significant, positive ROI or a net loss in revenue directly associable with the release of the ad.\n",
    "        * True positive: Null hypothesis rejected and notable increase or decrease in sales, reflected in net gain or loss in revenue subsequent to release of ad.\n",
    "        * True negative: Null hypothesis accepted. No change in sales noted; no ROI.\n",
    "        * False positive: Null hypothesis rejected, but no change in sales and 0 ROI.\n",
    "        * False negative: Null hypothesis accepted, but increase or decrease in sales noted. Net gain or loss in revenue since release of ad."
   ]
  },
  {
   "cell_type": "code",
   "execution_count": 62,
   "metadata": {},
   "outputs": [],
   "source": [
    "import pandas as pd \n",
    "import numpy as np \n",
    "import matplotlib.pyplot as plt \n",
    "import seaborn as sns\n",
    "import scipy.stats as stats\n",
    "from pydataset import data\n",
    "from env import get_db_url\n",
    "\n",
    "np.random.seed(123)\n"
   ]
  },
  {
   "cell_type": "code",
   "execution_count": 64,
   "metadata": {},
   "outputs": [
    {
     "data": {
      "text/plain": [
       "<BarContainer object of 100 artists>"
      ]
     },
     "execution_count": 64,
     "metadata": {},
     "output_type": "execute_result"
    },
    {
     "data": {
      "image/png": "[encoded data removed]",
      "text/plain": [
       "<Figure size 432x288 with 1 Axes>"
      ]
     },
     "metadata": {
      "needs_background": "light"
     },
     "output_type": "display_data"
    }
   ],
   "source": [
    "office_one_sales = 40\n",
    "office_one_avg = 90\n",
    "office_one_std = 15\n",
    "office_two_sales = 50\n",
    "office_two_avg = 100\n",
    "office_two_std = 20\n",
    "\n",
    "x = np.arange(50,150)\n",
    "\n",
    "ofc_one_selltime = stats.norm(office_one_avg, office_one_std).pdf(x)\n",
    "ofc_two_selltime = stats.norm(office_two_avg, office_two_std).pdf(x)\n",
    "\n",
    "# H0: There is no difference between the average sales times of office 1 and office 2\n",
    "# Ha: Office 1's sales time is not equal Office 2's sales time. \n",
    "\n",
    "plt.bar(x, ofc_one_selltime)\n",
    "plt.bar(x, ofc_two_selltime)\n",
    "plt.xlabel('Sell time')\n",
    "plt.ylabel('Freq %')"
   ]
  },
  {
   "cell_type": "code",
   "execution_count": null,
   "metadata": {},
   "outputs": [],
   "source": [
    "ofc1_df = pd.DataFrame(stats.norm(office_one_avg, office_one_std).rvs(1000))\n",
    "ofc2_df = pd.DataFrame(stats.norm(office_two_avg, office_two_std).rvs(1000))"
   ]
  },
  {
   "cell_type": "code",
   "execution_count": 67,
   "metadata": {},
   "outputs": [
    {
     "ename": "ValueError",
     "evalue": "DataFrame constructor not properly called!",
     "output_type": "error",
     "traceback": [
      "\u001b[0;31m---------------------------------------------------------------------------\u001b[0m",
      "\u001b[0;31mValueError\u001b[0m                                Traceback (most recent call last)",
      "\u001b[0;32m/var/folders/qq/jwr_4nc14hb3rbj39kp4nm5h0000gn/T/ipykernel_1770/1671924690.py\u001b[0m in \u001b[0;36m<module>\u001b[0;34m\u001b[0m\n\u001b[1;32m      1\u001b[0m \u001b[0malpha\u001b[0m \u001b[0;34m=\u001b[0m \u001b[0;36m0.05\u001b[0m\u001b[0;34m\u001b[0m\u001b[0;34m\u001b[0m\u001b[0m\n\u001b[1;32m      2\u001b[0m \u001b[0;34m\u001b[0m\u001b[0m\n\u001b[0;32m----> 3\u001b[0;31m \u001b[0mtsat\u001b[0m\u001b[0;34m,\u001b[0m \u001b[0mpval\u001b[0m \u001b[0;34m=\u001b[0m \u001b[0mstats\u001b[0m\u001b[0;34m.\u001b[0m\u001b[0mttest_1samp\u001b[0m\u001b[0;34m(\u001b[0m\u001b[0mpd\u001b[0m\u001b[0;34m.\u001b[0m\u001b[0mDataFrame\u001b[0m\u001b[0;34m(\u001b[0m\u001b[0mstats\u001b[0m\u001b[0;34m.\u001b[0m\u001b[0mnorm\u001b[0m\u001b[0;34m(\u001b[0m\u001b[0moffice_one_avg\u001b[0m\u001b[0;34m,\u001b[0m \u001b[0moffice_one_std\u001b[0m\u001b[0;34m)\u001b[0m\u001b[0;34m)\u001b[0m\u001b[0;34m,\u001b[0m \u001b[0mpd\u001b[0m\u001b[0;34m.\u001b[0m\u001b[0mDataFrame\u001b[0m\u001b[0;34m(\u001b[0m\u001b[0mstats\u001b[0m\u001b[0;34m.\u001b[0m\u001b[0mnorm\u001b[0m\u001b[0;34m(\u001b[0m\u001b[0moffice_two_avg\u001b[0m\u001b[0;34m,\u001b[0m \u001b[0moffice_two_std\u001b[0m\u001b[0;34m)\u001b[0m\u001b[0;34m)\u001b[0m\u001b[0;34m)\u001b[0m\u001b[0;34m\u001b[0m\u001b[0;34m\u001b[0m\u001b[0m\n\u001b[0m",
      "\u001b[0;32m/opt/homebrew/anaconda3/lib/python3.9/site-packages/pandas/core/frame.py\u001b[0m in \u001b[0;36m__init__\u001b[0;34m(self, data, index, columns, dtype, copy)\u001b[0m\n\u001b[1;32m    728\u001b[0m         \u001b[0;32melse\u001b[0m\u001b[0;34m:\u001b[0m\u001b[0;34m\u001b[0m\u001b[0;34m\u001b[0m\u001b[0m\n\u001b[1;32m    729\u001b[0m             \u001b[0;32mif\u001b[0m \u001b[0mindex\u001b[0m \u001b[0;32mis\u001b[0m \u001b[0;32mNone\u001b[0m \u001b[0;32mor\u001b[0m \u001b[0mcolumns\u001b[0m \u001b[0;32mis\u001b[0m \u001b[0;32mNone\u001b[0m\u001b[0;34m:\u001b[0m\u001b[0;34m\u001b[0m\u001b[0;34m\u001b[0m\u001b[0m\n\u001b[0;32m--> 730\u001b[0;31m                 \u001b[0;32mraise\u001b[0m \u001b[0mValueError\u001b[0m\u001b[0;34m(\u001b[0m\u001b[0;34m\"DataFrame constructor not properly called!\"\u001b[0m\u001b[0;34m)\u001b[0m\u001b[0;34m\u001b[0m\u001b[0;34m\u001b[0m\u001b[0m\n\u001b[0m\u001b[1;32m    731\u001b[0m \u001b[0;34m\u001b[0m\u001b[0m\n\u001b[1;32m    732\u001b[0m             \u001b[0;31m# Argument 1 to \"ensure_index\" has incompatible type \"Collection[Any]\";\u001b[0m\u001b[0;34m\u001b[0m\u001b[0;34m\u001b[0m\u001b[0m\n",
      "\u001b[0;31mValueError\u001b[0m: DataFrame constructor not properly called!"
     ]
    }
   ],
   "source": [
    "alpha = 0.05\n",
    "\n",
    "tsat, pval = stats.ttest_1samp()\n"
   ]
  },
  {
   "cell_type": "markdown",
   "metadata": {},
   "source": [
    "### Load the mpg dataset and use it to answer the following questions:\n",
    "\n",
    "- Is there a difference in fuel-efficiency in cars from 2008 vs 1999?\n",
    "\n",
    "- Are compact cars more fuel-efficient than the average car?\n",
    "\n",
    "- Do manual cars get better gas mileage than automatic cars?"
   ]
  },
  {
   "cell_type": "code",
   "execution_count": 32,
   "metadata": {},
   "outputs": [],
   "source": [
    "mpg = data('mpg')"
   ]
  },
  {
   "cell_type": "code",
   "execution_count": 74,
   "metadata": {},
   "outputs": [
    {
     "data": {
      "text/html": [
       "<div>\n",
       "<style scoped>\n",
       "    .dataframe tbody tr th:only-of-type {\n",
       "        vertical-align: middle;\n",
       "    }\n",
       "\n",
       "    .dataframe tbody tr th {\n",
       "        vertical-align: top;\n",
       "    }\n",
       "\n",
       "    .dataframe thead th {\n",
       "        text-align: right;\n",
       "    }\n",
       "</style>\n",
       "<table border=\"1\" class=\"dataframe\">\n",
       "  <thead>\n",
       "    <tr style=\"text-align: right;\">\n",
       "      <th></th>\n",
       "      <th>manufacturer</th>\n",
       "      <th>model</th>\n",
       "      <th>displ</th>\n",
       "      <th>year</th>\n",
       "      <th>cyl</th>\n",
       "      <th>trans</th>\n",
       "      <th>drv</th>\n",
       "      <th>cty</th>\n",
       "      <th>hwy</th>\n",
       "      <th>fl</th>\n",
       "      <th>class</th>\n",
       "      <th>avg_mileage</th>\n",
       "    </tr>\n",
       "  </thead>\n",
       "  <tbody>\n",
       "    <tr>\n",
       "      <th>1</th>\n",
       "      <td>audi</td>\n",
       "      <td>a4</td>\n",
       "      <td>1.8</td>\n",
       "      <td>1999</td>\n",
       "      <td>4</td>\n",
       "      <td>auto(l5)</td>\n",
       "      <td>f</td>\n",
       "      <td>18</td>\n",
       "      <td>29</td>\n",
       "      <td>p</td>\n",
       "      <td>compact</td>\n",
       "      <td>23.5</td>\n",
       "    </tr>\n",
       "    <tr>\n",
       "      <th>2</th>\n",
       "      <td>audi</td>\n",
       "      <td>a4</td>\n",
       "      <td>1.8</td>\n",
       "      <td>1999</td>\n",
       "      <td>4</td>\n",
       "      <td>manual(m5)</td>\n",
       "      <td>f</td>\n",
       "      <td>21</td>\n",
       "      <td>29</td>\n",
       "      <td>p</td>\n",
       "      <td>compact</td>\n",
       "      <td>25.0</td>\n",
       "    </tr>\n",
       "    <tr>\n",
       "      <th>3</th>\n",
       "      <td>audi</td>\n",
       "      <td>a4</td>\n",
       "      <td>2.0</td>\n",
       "      <td>2008</td>\n",
       "      <td>4</td>\n",
       "      <td>manual(m6)</td>\n",
       "      <td>f</td>\n",
       "      <td>20</td>\n",
       "      <td>31</td>\n",
       "      <td>p</td>\n",
       "      <td>compact</td>\n",
       "      <td>25.5</td>\n",
       "    </tr>\n",
       "    <tr>\n",
       "      <th>4</th>\n",
       "      <td>audi</td>\n",
       "      <td>a4</td>\n",
       "      <td>2.0</td>\n",
       "      <td>2008</td>\n",
       "      <td>4</td>\n",
       "      <td>auto(av)</td>\n",
       "      <td>f</td>\n",
       "      <td>21</td>\n",
       "      <td>30</td>\n",
       "      <td>p</td>\n",
       "      <td>compact</td>\n",
       "      <td>25.5</td>\n",
       "    </tr>\n",
       "    <tr>\n",
       "      <th>5</th>\n",
       "      <td>audi</td>\n",
       "      <td>a4</td>\n",
       "      <td>2.8</td>\n",
       "      <td>1999</td>\n",
       "      <td>6</td>\n",
       "      <td>auto(l5)</td>\n",
       "      <td>f</td>\n",
       "      <td>16</td>\n",
       "      <td>26</td>\n",
       "      <td>p</td>\n",
       "      <td>compact</td>\n",
       "      <td>21.0</td>\n",
       "    </tr>\n",
       "  </tbody>\n",
       "</table>\n",
       "</div>"
      ],
      "text/plain": [
       "  manufacturer model  displ  year  cyl       trans drv  cty  hwy fl    class  \\\n",
       "1         audi    a4    1.8  1999    4    auto(l5)   f   18   29  p  compact   \n",
       "2         audi    a4    1.8  1999    4  manual(m5)   f   21   29  p  compact   \n",
       "3         audi    a4    2.0  2008    4  manual(m6)   f   20   31  p  compact   \n",
       "4         audi    a4    2.0  2008    4    auto(av)   f   21   30  p  compact   \n",
       "5         audi    a4    2.8  1999    6    auto(l5)   f   16   26  p  compact   \n",
       "\n",
       "   avg_mileage  \n",
       "1         23.5  \n",
       "2         25.0  \n",
       "3         25.5  \n",
       "4         25.5  \n",
       "5         21.0  "
      ]
     },
     "execution_count": 74,
     "metadata": {},
     "output_type": "execute_result"
    }
   ],
   "source": [
    "mpg.head()\n",
    "mpg['avg_mileage'] = (mpg.hwy + mpg.cty) / 2\n",
    "\n",
    "cars_2008 = mpg[mpg.year == 2008]\n",
    "cars_1999 = mpg[mpg.year == 1999]\n",
    "\n",
    "mpg.head()\n"
   ]
  },
  {
   "cell_type": "code",
   "execution_count": 76,
   "metadata": {},
   "outputs": [
    {
     "name": "stdout",
     "output_type": "stream",
     "text": [
      "2008 average fuel efficiency is 20.076923076923077.\n",
      "1999 average fuel efficiency is 20.22222222222222.\n"
     ]
    }
   ],
   "source": [
    "fuel_eff_2008 = cars_2008.avg_mileage.mean()\n",
    "fuel_eff_1999 = cars_1999.avg_mileage.mean()\n",
    "\n",
    "print(f'2008 average fuel efficiency is {fuel_eff_2008}.')\n",
    "print(f'1999 average fuel efficiency is {fuel_eff_1999}.')"
   ]
  },
  {
   "cell_type": "markdown",
   "metadata": {},
   "source": [
    "H0: There is no difference in fuel efficiency between cars in 2008 and 1999.\n",
    "\n",
    "Ha: Fuel efficiency in 2008 cars > Fuel efficiency in 1999 cars."
   ]
  },
  {
   "cell_type": "code",
   "execution_count": 85,
   "metadata": {},
   "outputs": [
    {
     "data": {
      "text/plain": [
       "(-0.21960177245940962, 0.4131875386030319, 0.05)"
      ]
     },
     "execution_count": 85,
     "metadata": {},
     "output_type": "execute_result"
    }
   ],
   "source": [
    "cars_2008.avg_mileage.var()\n",
    "cars_1999.avg_mileage.var()\n",
    "alpha = 0.05\n",
    "tstat, pval = stats.ttest_ind(cars_2008.avg_mileage, cars_1999.avg_mileage, equal_var=False)\n",
    "\n",
    "tstat, pval / 2, alpha\n"
   ]
  },
  {
   "cell_type": "code",
   "execution_count": 86,
   "metadata": {},
   "outputs": [
    {
     "name": "stdout",
     "output_type": "stream",
     "text": [
      "We fail to reject the null hypothesis.\n"
     ]
    }
   ],
   "source": [
    "if pval / 2 < alpha and tstat > 0:\n",
    "    print ('We reject the null hypothesis.')\n",
    "else:\n",
    "    print ('We fail to reject the null hypothesis.')"
   ]
  },
  {
   "cell_type": "code",
   "execution_count": 88,
   "metadata": {},
   "outputs": [],
   "source": [
    "mpg.rename(columns= {'class': 'car_class'}, inplace= True)\n",
    "mpg.head()\n",
    "\n",
    "compact_cars = mpg[mpg.car_class == 'compact']"
   ]
  },
  {
   "cell_type": "markdown",
   "metadata": {},
   "source": [
    "H0: There is no difference between compact car fuel efficiency and average car fuel efficiency\n",
    "\n",
    "Ha: Compact car fuel efficiency > average car fuel efficiency"
   ]
  },
  {
   "cell_type": "code",
   "execution_count": 90,
   "metadata": {},
   "outputs": [
    {
     "name": "stdout",
     "output_type": "stream",
     "text": [
      "Average compact car fuel efficiency: 24.21276595744681\n",
      "Average car fuel efficiency: 20.14957264957265\n",
      "Is variance equal? False\n"
     ]
    }
   ],
   "source": [
    "\n",
    "print(f'Average compact car fuel efficiency: {compact_cars.avg_mileage.mean()}')\n",
    "print(f'Average car fuel efficiency: {mpg.avg_mileage.mean()}')\n"
   ]
  },
  {
   "cell_type": "code",
   "execution_count": 96,
   "metadata": {},
   "outputs": [
    {
     "name": "stdout",
     "output_type": "stream",
     "text": [
      "We reject the null hypothesis.\n"
     ]
    }
   ],
   "source": [
    "alpha = 0.05\n",
    "\n",
    "tstat, pval = stats.ttest_1samp(compact_cars.avg_mileage, mpg.avg_mileage.mean())\n",
    "\n",
    "if pval / 2 < alpha and tstat > 0:\n",
    "    print('We reject the null hypothesis.')\n",
    "else:\n",
    "    print('We fail to reject the null hypothesis.')"
   ]
  },
  {
   "cell_type": "code",
   "execution_count": null,
   "metadata": {},
   "outputs": [],
   "source": [
    "auto_trans_car = "
   ]
  }
 ],
 "metadata": {
  "interpreter": {
   "hash": "38cca0c38332a56087b24af0bc80247f4fced29cb4f7f437d91dc159adec9c4e"
  },
  "kernelspec": {
   "display_name": "Python 3.9.7 ('base')",
   "language": "python",
   "name": "python3"
  },
  "language_info": {
   "codemirror_mode": {
    "name": "ipython",
    "version": 3
   },
   "file_extension": ".py",
   "mimetype": "text/x-python",
   "name": "python",
   "nbconvert_exporter": "python",
   "pygments_lexer": "ipython3",
   "version": "3.9.7"
  },
  "orig_nbformat": 4
 },
 "nbformat": 4,
 "nbformat_minor": 2
}
